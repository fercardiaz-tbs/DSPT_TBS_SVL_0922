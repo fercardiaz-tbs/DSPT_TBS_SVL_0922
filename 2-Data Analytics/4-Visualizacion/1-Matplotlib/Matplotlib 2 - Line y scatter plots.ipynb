{
 "cells": [
  {
   "cell_type": "markdown",
   "id": "a4ddddb0-a525-46e5-a22a-ede53a722094",
   "metadata": {
    "colab_type": "text",
    "id": "BcJf6mMi0U0s"
   },
   "source": [
    "# Simple Line Plots"
   ]
  },
  {
   "cell_type": "markdown",
   "id": "aef25507-7167-4afe-b4af-812f65103a34",
   "metadata": {
    "colab_type": "text",
    "id": "yYpCgeUJ0U0t"
   },
   "source": [
    "Quizás el más simple de todos los gráficos es la visualización de una sola función $y = f(x)$.\n",
    "\n",
    "Aquí echaremos un primer vistazo a la creación de un gráfico simple de este tipo.\n",
    "Como en todas las secciones siguientes, empezaremos por **configurar el notebook e importar los paquetes que utilizaremos:**"
   ]
  },
  {
   "cell_type": "code",
   "execution_count": null,
   "id": "73ea134c-4371-4a15-9c51-6d2e19e74b31",
   "metadata": {
    "colab": {},
    "colab_type": "code",
    "id": "LmefB72r0U0t"
   },
   "outputs": [],
   "source": [
    "%matplotlib inline\n",
    "import matplotlib.pyplot as plt\n",
    "plt.style.use('seaborn-whitegrid')\n",
    "import numpy as np"
   ]
  },
  {
   "cell_type": "markdown",
   "id": "0a05da33-c0c0-40d2-8e4d-3c1f079f1a0a",
   "metadata": {
    "colab_type": "text",
    "id": "GoB-kRU50U0w"
   },
   "source": [
    "Para todos los gráficos de Matplotlib, empezamos creando una figura y unos ejes.\n",
    "En su forma más sencilla, una figura y unos ejes se pueden crear de la siguiente manera:"
   ]
  },
  {
   "cell_type": "code",
   "execution_count": null,
   "id": "d02e2e19-f0f4-4232-8f54-c2d3f4534479",
   "metadata": {
    "colab": {
     "base_uri": "https://localhost:8080/",
     "height": 273
    },
    "colab_type": "code",
    "collapsed": false,
    "id": "eUQvMkf-0U0w",
    "jupyter": {
     "outputs_hidden": false
    },
    "outputId": "6f3634b8-04a0-4629-d8eb-e598d133d852"
   },
   "outputs": [],
   "source": [
    "fig = plt.figure()\n",
    "ax = plt.axes()"
   ]
  },
  {
   "cell_type": "markdown",
   "id": "e121acf7-4e77-4a2e-9c4c-81cea820e459",
   "metadata": {
    "colab_type": "text",
    "id": "56ACZ60m0U0y"
   },
   "source": [
    "En Matplotlib, la *figura* (una instancia de la clase ``plt.Figure``) puede ser considerada como un único **contenedor que contiene todos los objetos que representan los ejes, los gráficos, el texto y las etiquetas.**\n",
    "Los *ejes* (una instancia de la clase ``plt.Axes``) es lo que vemos arriba: una caja delimitadora con **puntos y etiquetas, que eventualmente contendrá los elementos del gráfico que conforman nuestra visualización.**\n",
    "A lo largo de este libro, utilizaremos comúnmente el nombre de variable ``fig`` para referirnos a una instancia de figura, y ``ax`` para referirnos a una instancia de eje o grupo de instancias de eje.\n",
    "\n",
    "Una vez que hemos creado un eje, podemos utilizar la función ``ax.plot`` para trazar algunos datos. Empecemos con una simple sinusoide:"
   ]
  },
  {
   "cell_type": "code",
   "execution_count": null,
   "id": "37a0e902-fe7c-4eac-bceb-96b87be63b10",
   "metadata": {
    "colab": {
     "base_uri": "https://localhost:8080/",
     "height": 273
    },
    "colab_type": "code",
    "id": "7gcks1VX0U0z",
    "outputId": "782789da-918c-4367-a780-28fb6f74624e",
    "tags": []
   },
   "outputs": [],
   "source": [
    "fig = plt.figure()\n",
    "ax = plt.axes()\n",
    "\n",
    "x = np.linspace(0, 10, 1000)\n",
    "ax.plot(x, np.sin(x));"
   ]
  },
  {
   "cell_type": "markdown",
   "id": "6ff77c26-bc3e-4337-87cf-5b7e73eaff54",
   "metadata": {
    "colab_type": "text",
    "id": "ZEZNXOHz0U01"
   },
   "source": [
    "Alternativamente, podemos utilizar la interfaz de pylab y dejar que la figura y los ejes se creen por nosotros en segundo plano\n"
   ]
  },
  {
   "cell_type": "code",
   "execution_count": null,
   "id": "e6dc3f01-6d35-44d8-96ac-3601992b620c",
   "metadata": {
    "colab": {
     "base_uri": "https://localhost:8080/",
     "height": 273
    },
    "colab_type": "code",
    "id": "bLWzyaZJ0U01",
    "outputId": "2430b34d-f09d-409b-e5f6-e1b60028ff95",
    "tags": []
   },
   "outputs": [],
   "source": [
    "plt.plot(x, np.sin(x));"
   ]
  },
  {
   "cell_type": "markdown",
   "id": "c3b13189-402c-4e30-a567-28cb832a50e8",
   "metadata": {
    "colab_type": "text",
    "id": "43rtyyKy0U03"
   },
   "source": [
    "Si queremos crear una sola figura con múltiples líneas, podemos simplemente llamar a la función ``plot`` varias veces:"
   ]
  },
  {
   "cell_type": "code",
   "execution_count": null,
   "id": "dff3e0af-15c7-4186-99bd-12e5e872eb65",
   "metadata": {
    "colab": {},
    "colab_type": "code",
    "collapsed": false,
    "id": "_y3XjxsR0U04",
    "jupyter": {
     "outputs_hidden": false
    },
    "outputId": "075c95bf-db53-4f22-cefc-e07af32f5bf1"
   },
   "outputs": [],
   "source": [
    "plt.plot(x, np.sin(x));\n",
    "plt.plot(x, np.cos(x));"
   ]
  },
  {
   "cell_type": "markdown",
   "id": "e0626e97-94d1-461a-ae52-b30832baa810",
   "metadata": {
    "colab_type": "text",
    "id": "VKBwMdKQ0U06"
   },
   "source": [
    "¡Eso es todo lo que hay que hacer para dibujar funciones simples en Matplotlib!\n",
    "Ahora nos sumergiremos en algunos detalles más sobre cómo controlar la apariencia de los ejes y las líneas."
   ]
  },
  {
   "cell_type": "markdown",
   "id": "9ff5017d-d596-4e88-900c-0a68d56ba056",
   "metadata": {
    "colab_type": "text",
    "id": "X0szRzo20U06"
   },
   "source": [
    "## Ajustando el gráfico: Color de las lineas y estilos"
   ]
  },
  {
   "cell_type": "markdown",
   "id": "5d77b157-9056-41e7-a46b-79d7380dcaeb",
   "metadata": {
    "colab_type": "text",
    "id": "PpRGjp860U06"
   },
   "source": [
    "El primer ajuste que se puede hacer a un gráfico es controlar los colores y estilos de las líneas.\n",
    "La función ``plt.plot()`` toma argumentos adicionales que pueden ser utilizados para especificar estos.\n",
    "Para ajustar el color, puede utilizar la palabra clave ``color``, que acepta un argumento de cadena que representa prácticamente cualquier color imaginable.\n",
    "El color se puede especificar de varias maneras:"
   ]
  },
  {
   "cell_type": "code",
   "execution_count": null,
   "id": "d8bfd489-cf11-4165-8960-a0914d1215be",
   "metadata": {
    "colab": {
     "base_uri": "https://localhost:8080/",
     "height": 273
    },
    "colab_type": "code",
    "collapsed": false,
    "id": "pkPNn5QM0U07",
    "jupyter": {
     "outputs_hidden": false
    },
    "outputId": "9a264a3e-2f94-42d8-8309-e06343bdbd0d"
   },
   "outputs": [],
   "source": [
    "plt.plot(x, np.sin(x - 0), color='blue')        # specify color by name\n",
    "plt.plot(x, np.sin(x - 1), color='g')           # short color code (rgbcmyk)\n",
    "plt.plot(x, np.sin(x - 2), color='0.75')        # Grayscale between 0 and 1\n",
    "plt.plot(x, np.sin(x - 3), color='#FFDD44')     # Hex code (RRGGBB from 00 to FF)\n",
    "plt.plot(x, np.sin(x - 4), color=(1.0,0.2,0.3)) # RGB tuple, values 0 to 1\n",
    "plt.plot(x, np.sin(x - 5), color='chartreuse'); # all HTML color names supported"
   ]
  },
  {
   "cell_type": "markdown",
   "id": "a34ae5d7-d3b5-4d8e-9275-b0bbd01b17d2",
   "metadata": {
    "colab_type": "text",
    "id": "dK4kvcaY0U08"
   },
   "source": [
    "Si no se especifica ningún color, Matplotlib recorrerá automáticamente un conjunto de colores por defecto para múltiples líneas.\n",
    "\n",
    "Del mismo modo, el estilo de las líneas puede ajustarse utilizando la palabra clave ``linestyle``:"
   ]
  },
  {
   "cell_type": "code",
   "execution_count": null,
   "id": "c9d4072e-c851-4cec-b37f-f492b6a5f0f8",
   "metadata": {
    "colab": {},
    "colab_type": "code",
    "collapsed": false,
    "id": "kW5TmNEx0U09",
    "jupyter": {
     "outputs_hidden": false
    },
    "outputId": "8b09fd71-ace7-46ca-a5af-a8f7cd742d44"
   },
   "outputs": [],
   "source": [
    "plt.plot(x, x + 0, linestyle='solid')\n",
    "plt.plot(x, x + 1, linestyle='dashed')\n",
    "plt.plot(x, x + 2, linestyle='dashdot')\n",
    "plt.plot(x, x + 3, linestyle='dotted');\n",
    "\n",
    "# For short, you can use the following codes:\n",
    "plt.plot(x, x + 4, linestyle='-')  # solid\n",
    "plt.plot(x, x + 5, linestyle='--') # dashed\n",
    "plt.plot(x, x + 6, linestyle='-.') # dashdot\n",
    "plt.plot(x, x + 7, linestyle=':');  # dotted"
   ]
  },
  {
   "cell_type": "markdown",
   "id": "483f17b6-154f-4310-99db-d92b0ea194f3",
   "metadata": {
    "colab_type": "text",
    "id": "PUW5zxcg0U0-"
   },
   "source": [
    "Si quiere ser extremadamente conciso, estos códigos ``linestyle`` y ``color`` pueden combinarse en un único argumento sin palabras clave para la función ``plt.plot()``:"
   ]
  },
  {
   "cell_type": "code",
   "execution_count": null,
   "id": "f4573787-0648-4b37-a382-91cd51f84c45",
   "metadata": {
    "colab": {},
    "colab_type": "code",
    "collapsed": false,
    "id": "H4tUNmlg0U0_",
    "jupyter": {
     "outputs_hidden": false
    },
    "outputId": "bfba36c9-1a89-440c-96f7-32318a621720"
   },
   "outputs": [],
   "source": [
    "plt.plot(x, x + 0, '-g')  # solid green\n",
    "plt.plot(x, x + 1, '--c') # dashed cyan\n",
    "plt.plot(x, x + 2, '-.k') # dashdot black\n",
    "plt.plot(x, x + 3, ':r');  # dotted red"
   ]
  },
  {
   "cell_type": "markdown",
   "id": "c1a38c31-46ab-4cda-a261-1a0d33fd6dd3",
   "metadata": {
    "colab_type": "text",
    "id": "QiJ2Y_9e0U1C"
   },
   "source": [
    "Estos códigos de color de un solo carácter reflejan las abreviaturas estándar de los sistemas de color RGB (Rojo/Verde/Azul) y CMYK (Cian/Magenta/Amarillo/Negro), comúnmente utilizados para los gráficos digitales en color.\n",
    "\n",
    "Hay muchos otros argumentos de palabras clave que se pueden utilizar para afinar la apariencia del gráfico; para más detalles, sugiero ver el docstring de la función ``plt.plot()`` utilizando las herramientas de ayuda de IPython."
   ]
  },
  {
   "cell_type": "markdown",
   "id": "3501756e-131b-49fd-b0dd-f782be3407de",
   "metadata": {
    "colab_type": "text",
    "id": "-Q8bE67I0U1C"
   },
   "source": [
    "## Ajustar el gráfico: Límites de los ejes\n",
    "\n",
    "Matplotlib hace un trabajo decente en la elección de los límites de los ejes por defecto para su parcela, pero a veces es bueno tener un control más fino.\n",
    "La forma más básica de ajustar los límites de los ejes es utilizar los métodos ``plt.xlim()`` y ``plt.ylim()``:"
   ]
  },
  {
   "cell_type": "code",
   "execution_count": null,
   "id": "18c4494e-1a73-4ad5-86b9-778293d9d32c",
   "metadata": {},
   "outputs": [],
   "source": [
    "plt.plot(x, np.sin(x))"
   ]
  },
  {
   "cell_type": "code",
   "execution_count": null,
   "id": "5381cf44-dd78-4720-ae88-b1dca473a50d",
   "metadata": {
    "colab": {
     "base_uri": "https://localhost:8080/",
     "height": 273
    },
    "colab_type": "code",
    "id": "Qo_-b0l00U1C",
    "outputId": "dc99c667-1f73-4ff9-a417-359a91044e4a",
    "tags": []
   },
   "outputs": [],
   "source": [
    "plt.plot(x, np.sin(x))\n",
    "\n",
    "plt.xlim(-1, 11)\n",
    "plt.ylim(-1.5, 1.5);"
   ]
  },
  {
   "cell_type": "markdown",
   "id": "fef9c1d3-6ab1-4c61-a662-50f266e7b741",
   "metadata": {
    "colab_type": "text",
    "id": "6B4kAkoP0U1H"
   },
   "source": [
    "Si por alguna razón quieres que cualquiera de los ejes se muestre en sentido inverso, puedes simplemente invertir el orden de los argumentos:"
   ]
  },
  {
   "cell_type": "code",
   "execution_count": null,
   "id": "96871484-3a89-47b4-a0f5-cb64ecad5155",
   "metadata": {
    "colab": {
     "base_uri": "https://localhost:8080/",
     "height": 268
    },
    "colab_type": "code",
    "id": "_ioDXBzI0U1I",
    "outputId": "bfe10a45-3665-4086-dea2-9c5b62834d29",
    "tags": []
   },
   "outputs": [],
   "source": [
    "plt.plot(x, np.sin(x))\n",
    "\n",
    "plt.xlim(10, 0)\n",
    "plt.ylim(1.2, -1.2);"
   ]
  },
  {
   "cell_type": "markdown",
   "id": "4e604906-2346-41b4-8248-3f47c4d8de61",
   "metadata": {
    "colab_type": "text",
    "id": "sdllgbvJ0U1J"
   },
   "source": [
    "Un método útil relacionado es ``plt.axis()`` (ten en cuenta aquí la posible confusión entre *e* y *eje* con *i*).\n",
    "El método ``plt.axis()`` permite establecer los límites ``x`` y ``y`` con una sola llamada, pasando una lista que especifica ``[xmin, xmax, ymin, ymax]``:"
   ]
  },
  {
   "cell_type": "code",
   "execution_count": null,
   "id": "15d971ea-cf17-46f3-a2fb-9287f46ecec5",
   "metadata": {
    "colab": {},
    "colab_type": "code",
    "collapsed": false,
    "id": "ElaGjwCR0U1J",
    "jupyter": {
     "outputs_hidden": false
    },
    "outputId": "90d585a6-1775-4955-849e-db8c21699492"
   },
   "outputs": [],
   "source": [
    "plt.plot(x, np.sin(x))\n",
    "plt.axis([-1, 11, -1.5, 1.5]);"
   ]
  },
  {
   "cell_type": "markdown",
   "id": "de7379c9-108f-4948-9012-389e4b1a2111",
   "metadata": {
    "colab_type": "text",
    "id": "J9Ec-jgR0U1L"
   },
   "source": [
    "El método ``plt.axis()`` va incluso más allá, permitiéndole hacer cosas como ajustar automáticamente los límites alrededor del gráfico actual:"
   ]
  },
  {
   "cell_type": "code",
   "execution_count": null,
   "id": "2f700bf5-bbf3-48e3-afa8-652e2321b302",
   "metadata": {
    "colab": {},
    "colab_type": "code",
    "id": "NBN2ahpv0U1L",
    "outputId": "290d0a63-84e8-4916-b40b-8204ddd10460",
    "tags": []
   },
   "outputs": [],
   "source": [
    "plt.plot(x, np.sin(x))\n",
    "plt.axis('tight');"
   ]
  },
  {
   "cell_type": "markdown",
   "id": "a0c9afdd-c724-4782-b82c-0c67a3159ce5",
   "metadata": {
    "colab_type": "text",
    "id": "37L8kclj0U1O"
   },
   "source": [
    "Permite incluso especificaciones de mayor nivel, como garantizar una relación de aspecto igual para que en su pantalla, una unidad en ``x`` sea igual a una unidad en ``y``:"
   ]
  },
  {
   "cell_type": "code",
   "execution_count": null,
   "id": "c0ce89b7-4a04-497f-8c02-86dbe7a1d500",
   "metadata": {
    "colab": {},
    "colab_type": "code",
    "collapsed": false,
    "id": "4_kEx7WL0U1P",
    "jupyter": {
     "outputs_hidden": false
    },
    "outputId": "ad45c4e3-4798-4f9d-fcc6-7ace510545ab"
   },
   "outputs": [],
   "source": [
    "plt.plot(x, np.sin(x))\n",
    "plt.axis('equal');"
   ]
  },
  {
   "cell_type": "markdown",
   "id": "0091776c-c11e-475b-9a68-6b02797a0245",
   "metadata": {
    "colab_type": "text",
    "id": "o5bDIM0s0U1Q"
   },
   "source": [
    "Para más información sobre los límites de los ejes y otras capacidades del método ``plt.axis``, consulte el docstring ``plt.axis``."
   ]
  },
  {
   "cell_type": "markdown",
   "id": "254bbb60-6cf9-4f2c-a76c-3f507d2ffe9f",
   "metadata": {
    "colab_type": "text",
    "id": "66NKjv_l0U1R"
   },
   "source": [
    "## Etiquetado de gráficos\n",
    "\n",
    "Continuamos con el etiquetado de los gráficos: títulos, etiquetas de ejes y leyendas simples.\n",
    "\n",
    "Los títulos y las etiquetas de los ejes son las etiquetas más sencillas; hay métodos que se pueden utilizar para establecerlas rápidamente:"
   ]
  },
  {
   "cell_type": "code",
   "execution_count": null,
   "id": "e12603d7-7f73-4b40-bd15-0eef774242b7",
   "metadata": {
    "colab": {},
    "colab_type": "code",
    "collapsed": false,
    "id": "CeBSsoyB0U1R",
    "jupyter": {
     "outputs_hidden": false
    },
    "outputId": "e6d85ed2-1dff-4613-9fd5-855eab3328ac"
   },
   "outputs": [],
   "source": [
    "plt.plot(x, np.sin(x))\n",
    "plt.title(\"A sin curve\")\n",
    "plt.xlabel(\"Valores\")\n",
    "plt.ylabel(\"y\");"
   ]
  },
  {
   "cell_type": "markdown",
   "id": "4f5392c5-8b40-4280-9c63-befeb470a38f",
   "metadata": {
    "colab_type": "text",
    "id": "Bv26-uQ_0U1T"
   },
   "source": [
    "**La posición, el tamaño y el estilo de estas etiquetas pueden ajustarse utilizando argumentos opcionales a la función.**\n",
    "Para más información, consulte la documentación de Matplotlib y los docstrings de cada una de estas funciones.\n",
    "\n",
    "Cuando se muestran múltiples líneas dentro de un mismo eje, puede ser útil crear una **leyenda del gráfico** que etiquete cada tipo de línea.\n",
    "Una vez más, **Matplotlib tiene una forma incorporada de crear rápidamente tal leyenda.**\n",
    "Se hace a través del método (lo has adivinado) ``plt.legend()``.\n",
    "Aunque hay varias formas válidas de usar esto, me parece más fácil especificar la etiqueta de cada línea usando la palabra clave ``label`` de la función de trazado:"
   ]
  },
  {
   "cell_type": "code",
   "execution_count": null,
   "id": "5c4f0155-c4bd-4917-808e-7b445eb87228",
   "metadata": {
    "colab": {},
    "colab_type": "code",
    "id": "_I8gBSA-0U1T",
    "outputId": "0ebf13b2-9203-4df4-ba5b-799516edf389",
    "tags": []
   },
   "outputs": [],
   "source": [
    "plt.plot(x, np.sin(x), '-g', label = 'sin(x)')\n",
    "plt.plot(x, np.cos(x), ':b', label = 'cos(x)')\n",
    "plt.axis('equal')\n",
    "# plt.grid(False)\n",
    "\n",
    "plt.legend();"
   ]
  },
  {
   "cell_type": "markdown",
   "id": "1e1dc3ef-6a70-45af-b86b-5ad54008463d",
   "metadata": {
    "colab_type": "text",
    "id": "cYAvm1e80U1V"
   },
   "source": [
    "Como puede ver, la función ``plt.legend()`` mantiene un registro del estilo y el color de la línea, y los hace coincidir con la etiqueta correcta.\n",
    "Puede encontrar más información sobre la especificación y el formato de las leyendas de los gráficos en el docstring ``plt.legend``."
   ]
  },
  {
   "cell_type": "markdown",
   "id": "cae63787-228f-43fc-a3f2-ab4833b29440",
   "metadata": {
    "colab_type": "text",
    "id": "hw0hlnwq0U1W"
   },
   "source": [
    "## Aparte: Triquiñuelas Matplotlib \n",
    "\n",
    "Mientras que la mayoría de las funciones de ``plt`` se traducen directamente a los métodos de ``ax`` (como ``plt.plot()`` → ``ax.plot()``, ``plt.legend()`` → ``ax.legend()``, etc.), este no es el caso de todos los comandos.\n",
    "En particular, las funciones para establecer límites, etiquetas y títulos se modifican ligeramente.\n",
    "**Para la transición entre las funciones de estilo MATLAB y los métodos orientados a objetos, haz los siguientes cambios:**\n",
    "\n",
    "- ``plt.xlabel()`` → ``ax.set_xlabel()``\n",
    "- ``plt.ylabel()`` → ``ax.set_ylabel()``\n",
    "- ``plt.xlim()`` → ``ax.set_xlim()``\n",
    "- ``plt.ylim()`` → ``ax.set_ylim()``\n",
    "- ``plt.title()`` → ``ax.set_title()``\n",
    "\n",
    "En la interfaz orientada a objetos para trazar, en lugar de llamar a estas funciones individualmente, a menudo es más conveniente utilizar el método ``ax.set()`` para establecer todas estas propiedades a la vez:"
   ]
  },
  {
   "cell_type": "code",
   "execution_count": null,
   "id": "b54a0db8-a8cc-4052-8b7f-460c214a9262",
   "metadata": {
    "colab": {},
    "colab_type": "code",
    "collapsed": false,
    "id": "j0ZI7Iiq0U1W",
    "jupyter": {
     "outputs_hidden": false
    },
    "outputId": "04dbc1a2-8406-49d2-eab1-a6234219a949"
   },
   "outputs": [],
   "source": [
    "ax = plt.axes()\n",
    "ax.plot(x, np.sin(x))\n",
    "ax.set(xlim=(0, 10), ylim=(-2, 2),\n",
    "       xlabel='x', ylabel='sin(x)',\n",
    "       title='A Simple Plot');"
   ]
  },
  {
   "cell_type": "markdown",
   "id": "15f48887-9da5-4169-8d2b-18acdcbd5481",
   "metadata": {
    "colab_type": "text",
    "id": "pFdzIWA50U1Y"
   },
   "source": [
    "# Simple Scatter Plots"
   ]
  },
  {
   "cell_type": "markdown",
   "id": "9b762993-8aaa-446d-adbf-9dbf3c3c633e",
   "metadata": {
    "colab_type": "text",
    "id": "nsKxIgAw0U1Y"
   },
   "source": [
    "Otro tipo de gráfico comúnmente utilizado es el gráfico de dispersión simple, un primo cercano del gráfico de líneas.\n",
    "En lugar de que los puntos estén unidos por segmentos de línea, aquí los puntos se representan individualmente con un punto, un círculo u otra forma."
   ]
  },
  {
   "cell_type": "markdown",
   "id": "9ad5ee45-6616-476a-b2aa-e51e3dc6e86b",
   "metadata": {
    "colab_type": "text",
    "id": "nvjsLv0s0U1b"
   },
   "source": [
    "## Scatter Plots con ``plt.plot``\n",
    "\n",
    "En la sección anterior vimos ``plt.plot``/`ax.plot`` para producir gráficos de líneas.\n",
    "Resulta que esta misma función puede producir gráficos de dispersión también:"
   ]
  },
  {
   "cell_type": "code",
   "execution_count": null,
   "id": "06061b0f-ae49-4764-8026-490fd82ec4a7",
   "metadata": {
    "colab": {},
    "colab_type": "code",
    "id": "5doJVnU70U1b",
    "outputId": "fd16ae28-d011-42ef-f5af-d0bbb23057a2",
    "tags": []
   },
   "outputs": [],
   "source": [
    "x = np.linspace(0, 10, 30)\n",
    "y = np.sin(x)\n",
    "\n",
    "plt.plot(x, y, 'o', color='black');"
   ]
  },
  {
   "cell_type": "markdown",
   "id": "b881861c-aa38-488a-b803-8889fda9eabd",
   "metadata": {
    "colab_type": "text",
    "id": "K-GZdlu00U1d"
   },
   "source": [
    "El tercer argumento de la llamada a la función es un carácter que representa el tipo de símbolo utilizado para el trazado. Al igual que se pueden especificar opciones como ``'-'``, ``'--'`` para controlar el estilo de la línea, el estilo del marcador tiene su propio conjunto de códigos de cadena cortos. La lista completa de símbolos disponibles puede verse en la documentación de ``plt.plot``, o en la documentación online de Matplotlib. La mayoría de las posibilidades son bastante intuitivas, y aquí mostraremos algunas de las más comunes:"
   ]
  },
  {
   "cell_type": "code",
   "execution_count": null,
   "id": "a3ede293-4b21-41e8-a3bb-a0301df20e50",
   "metadata": {
    "colab": {},
    "colab_type": "code",
    "collapsed": false,
    "id": "7PsO7dHH0U1d",
    "jupyter": {
     "outputs_hidden": false
    },
    "outputId": "2804bc2a-32cb-40a7-cae4-026ec27cb3d1"
   },
   "outputs": [],
   "source": [
    "rng = np.random.RandomState(0)\n",
    "for marker in ['o', '.', ',', 'x', '+', 'v', '^', '<', '>', 's', 'd']:\n",
    "    plt.plot(rng.rand(5), rng.rand(5), marker,\n",
    "             label=\"marker='{0}'\".format(marker))\n",
    "plt.legend(numpoints=1)\n",
    "plt.xlim(0, 1.8);"
   ]
  },
  {
   "cell_type": "markdown",
   "id": "90d20728-d8ee-4c0c-914c-651ec99bd7e0",
   "metadata": {
    "colab_type": "text",
    "id": "CdUY6fOi0U1f"
   },
   "source": [
    "Para obtener aún más posibilidades, estos códigos de caracteres pueden utilizarse junto con los códigos de línea y color para trazar puntos junto con una línea que los conecte:"
   ]
  },
  {
   "cell_type": "code",
   "execution_count": null,
   "id": "756c0e0c-b87d-40a3-9efa-5775e5cd33b9",
   "metadata": {
    "colab": {},
    "colab_type": "code",
    "collapsed": false,
    "id": "2e9BMvvO0U1f",
    "jupyter": {
     "outputs_hidden": false
    },
    "outputId": "ba7a8267-82fa-491a-85c0-fda8863efddd"
   },
   "outputs": [],
   "source": [
    "plt.plot(x, y, '-ok');"
   ]
  },
  {
   "cell_type": "markdown",
   "id": "b41089d0-2916-4831-8d0a-ec8ac7012fda",
   "metadata": {
    "colab_type": "text",
    "id": "ZqAAzeu90U1h"
   },
   "source": [
    "Los argumentos adicionales a ``plt.plot`` especifican una amplia gama de propiedades de las líneas y los marcadores:"
   ]
  },
  {
   "cell_type": "code",
   "execution_count": null,
   "id": "6caf4167-6904-4d6c-9a2f-daf261a5ab99",
   "metadata": {
    "colab": {},
    "colab_type": "code",
    "id": "Xuvuyd2I0U1i",
    "outputId": "f203dac6-dd00-4779-9abc-0168ae2eec77",
    "tags": []
   },
   "outputs": [],
   "source": [
    "plt.plot(x, y, '-p',\n",
    "        color='gray',\n",
    "        linewidth = 4,\n",
    "        markersize = 15,\n",
    "        markerfacecolor = 'white',\n",
    "        markeredgecolor = 'red',\n",
    "        markeredgewidth = 2);"
   ]
  },
  {
   "cell_type": "markdown",
   "id": "fc734c98-6df7-4e96-88d1-751c847946a0",
   "metadata": {
    "colab_type": "text",
    "id": "H17D-hmp0U1j"
   },
   "source": [
    "Este tipo de flexibilidad en la función ``plt.plot`` permite una amplia variedad de posibles opciones de visualización.\n",
    "Para una descripción completa de las opciones disponibles, consulte la documentación de ``plt.plot``."
   ]
  },
  {
   "cell_type": "markdown",
   "id": "04a60388-383c-4efe-aeeb-ef101f180dea",
   "metadata": {
    "colab_type": "text",
    "id": "PnPBrJ8f0U1j"
   },
   "source": [
    "## Scatter Plots con ``plt.scatter``\n",
    "\n",
    "Un segundo método más potente para crear gráficos de dispersión es la función ``plt.scatter``, que puede utilizarse de forma muy similar a la función ``plt.plot``:"
   ]
  },
  {
   "cell_type": "code",
   "execution_count": null,
   "id": "b0aca602-3a8f-494e-b50d-605a4bf32d90",
   "metadata": {
    "colab": {},
    "colab_type": "code",
    "id": "Y_e0PyvC0U1k",
    "outputId": "f7df621d-6998-4ee6-fe72-0d5401cab812",
    "tags": []
   },
   "outputs": [],
   "source": [
    "plt.scatter(x, y);"
   ]
  },
  {
   "cell_type": "markdown",
   "id": "62810835-44ad-4de7-82a3-6a42eac7bac4",
   "metadata": {
    "colab_type": "text",
    "id": "Afv9E8F20U1m"
   },
   "source": [
    "**La principal diferencia entre ``plt.scatter`` y ``plt.plot`` es que puede utilizarse para crear gráficos de dispersión en los que las propiedades de cada punto individual (tamaño, color de la cara, color del borde, etc.) pueden controlarse individualmente o asignarse a los datos.\n",
    "\n",
    "Vamos a demostrarlo creando un gráfico de dispersión aleatorio con puntos de muchos colores y tamaños.\n",
    "Para ver mejor los resultados superpuestos, también usaremos la palabra clave ``alpha`` para ajustar el nivel de transparencia:"
   ]
  },
  {
   "cell_type": "code",
   "execution_count": null,
   "id": "f5ca4103-9981-4fbb-b786-6037159733b6",
   "metadata": {
    "colab": {
     "base_uri": "https://localhost:8080/",
     "height": 273
    },
    "colab_type": "code",
    "collapsed": false,
    "id": "W3bmpgyj0U1m",
    "jupyter": {
     "outputs_hidden": false
    },
    "outputId": "f11a2f8d-06a3-492b-b1f8-adeb529c9c5a"
   },
   "outputs": [],
   "source": [
    "rng = np.random.RandomState(0)\n",
    "x = rng.randn(100)\n",
    "y = rng.randn(100)\n",
    "colors = rng.rand(100)\n",
    "sizes = 1000 * rng.rand(100)\n",
    "\n",
    "plt.scatter(x, y, c=colors, s=sizes, alpha=0.3,\n",
    "            cmap='viridis')\n",
    "plt.colorbar();  # show color scale"
   ]
  },
  {
   "cell_type": "markdown",
   "id": "88a5ec1a-7394-4b40-a917-204ba1b389bd",
   "metadata": {
    "colab_type": "text",
    "id": "JfAY8Gjf0U1o"
   },
   "source": [
    "Observe que el argumento del color se asigna automáticamente a una escala de colores (mostrada aquí por el comando ``colorbar()``), y que el argumento del tamaño se da en píxeles.\n",
    "De este modo, el color y el tamaño de los puntos pueden utilizarse para transmitir información en la visualización, con el fin de visualizar datos multidimensionales.\n",
    "\n",
    "Por ejemplo, podemos utilizar los datos de Iris de Scikit-Learn, donde cada muestra es uno de los tres tipos de flores a los que se les ha medido cuidadosamente el tamaño de sus pétalos y sépalos:"
   ]
  },
  {
   "cell_type": "code",
   "execution_count": null,
   "id": "d3584ca7-8614-44da-9f2d-e2ab11b5470b",
   "metadata": {},
   "outputs": [],
   "source": [
    "from sklearn.datasets import load_iris\n",
    "iris = load_iris()"
   ]
  },
  {
   "cell_type": "code",
   "execution_count": null,
   "id": "07a8cb19-4710-4e3d-a7fd-654bfa5c6d42",
   "metadata": {},
   "outputs": [],
   "source": [
    "iris.feature_names"
   ]
  },
  {
   "cell_type": "code",
   "execution_count": null,
   "id": "9b0430e3-284a-43b7-94aa-36be5db78a1e",
   "metadata": {
    "colab": {},
    "colab_type": "code",
    "collapsed": false,
    "id": "3htDP1Qg0U1o",
    "jupyter": {
     "outputs_hidden": false
    },
    "outputId": "be49ae2a-f831-4f38-82da-373bf068ce25"
   },
   "outputs": [],
   "source": [
    "features = iris.data.T\n",
    "\n",
    "plt.scatter(features[0], features[2], alpha=0.5,\n",
    "            s=100*features[3], c=iris.target, cmap='viridis')\n",
    "plt.xlabel(iris.feature_names[0])\n",
    "plt.ylabel(iris.feature_names[2])\n",
    "plt.colorbar();"
   ]
  },
  {
   "cell_type": "markdown",
   "id": "21de3381-98db-444f-87e0-12ceeed4c7b6",
   "metadata": {
    "colab_type": "text",
    "id": "SsGizJYd0U1q"
   },
   "source": [
    "Podemos ver que este gráfico de dispersión nos ha dado la posibilidad de **explorar simultáneamente cuatro dimensiones diferentes de los datos\n",
    "la ubicación (x, y) de cada punto corresponde a la longitud y la anchura del sépalo, el tamaño del punto está relacionado con la anchura del pétalo, y el color está relacionado con la especie particular de la flor.\n",
    "Los gráficos de dispersión multicolor y de múltiples características como éste pueden ser útiles tanto para la exploración como para la presentación de los datos."
   ]
  },
  {
   "cell_type": "markdown",
   "id": "424f3800-cce2-47cd-ab2f-4647c9dbee23",
   "metadata": {
    "colab_type": "text",
    "id": "YHFa1qES0U1q"
   },
   "source": [
    "## ``plot`` frente al ``scatter``: Una nota sobre la eficiencia\n",
    "\n",
    "Aparte de las diferentes características disponibles en ``plt.plot`` y ``plt.scatter``, **¿por qué elegir uno en vez de otro?** Aunque no importa mucho para cantidades pequeñas de datos, a medida que los conjuntos de datos superan unos pocos miles de puntos, **``plt.plot`` puede ser notablemente más eficiente que ``plt.scatter``.\n",
    "La razón es que ``plt.scatter`` tiene la capacidad de renderizar un tamaño y/o color diferente para cada punto, por lo que el renderizador debe hacer el trabajo extra de construir cada punto individualmente.**\n",
    "En cambio, en ``plt.plot``, los puntos son siempre esencialmente clones unos de otros, por lo que el trabajo de determinar la apariencia de los puntos se realiza sólo una vez para todo el conjunto de datos.\n",
    "Para grandes conjuntos de datos, la diferencia entre estos dos puede conducir a un rendimiento muy diferente, y por esta razón, ``plt.plot`` debe ser preferido sobre ``plt.scatter`` para grandes conjuntos de datos."
   ]
  },
  {
   "cell_type": "markdown",
   "id": "0a9ce0da-8f1d-4c7d-9bf6-b0f48b026922",
   "metadata": {
    "colab_type": "text",
    "id": "Q648Qm_q0U2W"
   },
   "source": [
    "# Personalización de las leyendas de los gráficos\n",
    "\n",
    "Las leyendas de los gráficos dan sentido a una visualización, asignando un significado a los distintos elementos del gráfico.\n",
    "Anteriormente vimos cómo crear una leyenda simple; aquí echaremos un vistazo a la personalización de la colocación y la estética de la leyenda en Matplotlib.\n",
    "\n",
    "La leyenda más sencilla puede crearse con el comando ``plt.legend()``, que crea automáticamente una leyenda para cualquier elemento del gráfico etiquetado:"
   ]
  },
  {
   "cell_type": "code",
   "execution_count": null,
   "id": "94ce107a-ebd1-4830-a4da-2d5c17e1aea3",
   "metadata": {
    "colab": {
     "base_uri": "https://localhost:8080/",
     "height": 268
    },
    "colab_type": "code",
    "collapsed": false,
    "id": "mPjnWdUM0U2Z",
    "jupyter": {
     "outputs_hidden": false
    },
    "outputId": "b80211a8-92d8-4c6e-beea-a9698bef5844"
   },
   "outputs": [],
   "source": [
    "x = np.linspace(0, 10, 1000)\n",
    "fig, ax = plt.subplots()\n",
    "ax.plot(x, np.sin(x), '-b', label='Sine')\n",
    "ax.plot(x, np.cos(x), '--r', label='Cosine')\n",
    "ax.axis('equal') # Same scale in x and y\n",
    "ax.legend();"
   ]
  },
  {
   "cell_type": "markdown",
   "id": "9a133ba1-a00c-4b4d-a143-2ebf35283998",
   "metadata": {
    "colab_type": "text",
    "id": "gAs5e9SA0U2a"
   },
   "source": [
    "Pero hay muchas formas en las que podemos querer personalizar dicha leyenda.\n",
    "Por ejemplo, podemos especificar la ubicación y desactivar el marco:"
   ]
  },
  {
   "cell_type": "code",
   "execution_count": null,
   "id": "d5a5a646-a91d-48fe-94b3-ee9e6df24cc5",
   "metadata": {
    "colab": {
     "base_uri": "https://localhost:8080/",
     "height": 268
    },
    "colab_type": "code",
    "collapsed": false,
    "id": "gyX0AufM0U2b",
    "jupyter": {
     "outputs_hidden": false
    },
    "outputId": "3b5ca107-8fa6-4183-9f0f-9da36f889209"
   },
   "outputs": [],
   "source": [
    "ax.legend(loc = 'upper left', frameon = False)\n",
    "fig"
   ]
  },
  {
   "cell_type": "markdown",
   "id": "1d6d398b-285e-4a54-a151-6a8d891663fa",
   "metadata": {
    "colab_type": "text",
    "id": "s4S-N1aB0U2c"
   },
   "source": [
    "Podemos utilizar el comando ``ncol`` para especificar el número de columnas de la leyenda:"
   ]
  },
  {
   "cell_type": "code",
   "execution_count": null,
   "id": "9741e652-f776-424f-81ac-7f9e6981b3e9",
   "metadata": {
    "colab": {},
    "colab_type": "code",
    "id": "PS-1j09z0U2c",
    "outputId": "ec4a3ca3-85b3-45c1-9aee-462c258e3873",
    "tags": []
   },
   "outputs": [],
   "source": [
    "ax.legend(loc = 'lower center', frameon = False, ncol = 2)\n",
    "fig"
   ]
  },
  {
   "cell_type": "markdown",
   "id": "472ea565-5eda-4c1d-9295-18211da38f99",
   "metadata": {
    "colab_type": "text",
    "id": "sDPXS3oO0U2d"
   },
   "source": [
    "Podemos utilizar una caja redondeada (``fancybox``) o añadir una sombra, cambiar la transparencia (valor alfa) del marco, o cambiar el relleno alrededor del texto:"
   ]
  },
  {
   "cell_type": "code",
   "execution_count": null,
   "id": "0e732e19-b75f-4cce-ace4-464c348a948b",
   "metadata": {
    "colab": {},
    "colab_type": "code",
    "collapsed": false,
    "id": "4dUGA9NR0U2e",
    "jupyter": {
     "outputs_hidden": false
    },
    "outputId": "aa34b11c-4043-42d8-ac90-898911889057"
   },
   "outputs": [],
   "source": [
    "ax.legend(fancybox=True, framealpha=0.1, shadow=True, borderpad=1)\n",
    "fig"
   ]
  },
  {
   "cell_type": "markdown",
   "id": "a990e6e5-e9b1-4b8d-bff2-260f0c9ca18f",
   "metadata": {
    "colab_type": "text",
    "id": "cMqkARsE0U2h"
   },
   "source": [
    "Para más información sobre las opciones de leyenda disponibles, consulte el docstring ``plt.legend``."
   ]
  },
  {
   "cell_type": "markdown",
   "id": "5e21da1b-15f0-4b55-a7f2-3adda1df4051",
   "metadata": {
    "colab_type": "text",
    "id": "IBt9gErE0U2i"
   },
   "source": [
    "##  Selección de elementos para la leyenda\n",
    "\n",
    "Como ya hemos visto, la leyenda incluye por defecto todos los elementos etiquetados.\n",
    "Si esto no es lo que se desea, podemos afinar qué elementos y etiquetas aparecen en la leyenda utilizando los objetos devueltos por los comandos de trazado.\n",
    "El comando ``plt.plot()`` es capaz de crear múltiples líneas a la vez, y devuelve una lista de instancias de líneas creadas.\n",
    "Si pasamos cualquiera de ellas a ``plt.legend()`` le diremos cuáles identificar, junto con las etiquetas que queramos especificar:"
   ]
  },
  {
   "cell_type": "code",
   "execution_count": null,
   "id": "f7e85848-8559-4908-b32a-8fe9f5e2fdfe",
   "metadata": {
    "colab": {},
    "colab_type": "code",
    "collapsed": false,
    "id": "cFf7akaQ0U2i",
    "jupyter": {
     "outputs_hidden": false
    },
    "outputId": "a935ff8e-a716-4a04-a2b4-73a34b06ba2b"
   },
   "outputs": [],
   "source": [
    "y = np.sin(x[:, np.newaxis] + np.pi * np.arange(0, 2, 0.5))\n",
    "lines = plt.plot(x, y)\n",
    "\n",
    "# lines is a list of plt.Line2D instances\n",
    "plt.legend(lines[:2], ['first', 'second']);"
   ]
  },
  {
   "cell_type": "markdown",
   "id": "a72e9947-2c5d-4823-913f-4b02f50c24da",
   "metadata": {
    "colab_type": "text",
    "id": "H9Z2_yZZ0U2j"
   },
   "source": [
    "En la práctica, suelo encontrar más claro el primer método, aplicando etiquetas a los elementos del gráfico que quieres mostrar en la leyenda:"
   ]
  },
  {
   "cell_type": "code",
   "execution_count": null,
   "id": "b0e08cdb-b029-4d82-b12a-86fc95fa843b",
   "metadata": {
    "colab": {},
    "colab_type": "code",
    "collapsed": false,
    "id": "G1aF-sHQ0U2j",
    "jupyter": {
     "outputs_hidden": false
    },
    "outputId": "ed842da1-4f09-41d0-cd15-5c8e75634f1d"
   },
   "outputs": [],
   "source": [
    "plt.plot(x, y[:, 0], label='first')\n",
    "plt.plot(x, y[:, 1], label='second')\n",
    "plt.plot(x, y[:, 2:])\n",
    "plt.legend(framealpha=1, frameon=True);"
   ]
  },
  {
   "cell_type": "markdown",
   "id": "0d81a839-e07b-4099-ac86-4e6651abb99d",
   "metadata": {
    "colab_type": "text",
    "id": "i4t-02uQ0U2l"
   },
   "source": [
    "Tenga en cuenta que, por defecto, la leyenda ignora todos los elementos sin un atributo ``label`` establecido."
   ]
  },
  {
   "cell_type": "markdown",
   "id": "8bf7da0f-abe7-46a5-be27-25a8a7028c71",
   "metadata": {
    "colab_type": "text",
    "id": "9uELEdB40U2l"
   },
   "source": [
    "## Leyenda para el tamaño de los puntos\n",
    "\n",
    "A veces los valores predeterminados de la leyenda no son suficientes para la visualización dada.\n",
    "Por ejemplo, tal vez esté utilizando el tamaño de los puntos para marcar ciertas características de los datos, y quiera crear una leyenda que lo refleje.\n",
    "Este es un ejemplo en el que utilizaremos el tamaño de los puntos para indicar las poblaciones de las ciudades de California.\n",
    "Queremos una leyenda que especifique la escala de los tamaños de los puntos, y lo lograremos trazando algunos datos etiquetados sin entradas:"
   ]
  },
  {
   "cell_type": "code",
   "execution_count": null,
   "id": "bd9f31e8-f639-4402-8c08-cb7f52144597",
   "metadata": {},
   "outputs": [],
   "source": [
    "import pandas as pd\n",
    "cities = pd.read_csv('data/california_cities.csv')\n",
    "cities.head()"
   ]
  },
  {
   "cell_type": "code",
   "execution_count": null,
   "id": "3e1d50ec-6407-45c5-be26-fc8cc84cb6d9",
   "metadata": {},
   "outputs": [],
   "source": [
    "# Extract the data we're interested in\n",
    "lat, lon = cities['latd'], cities['longd']\n",
    "population, area = cities['population_total'], cities['area_total_km2']\n",
    "\n",
    "plt.figure(figsize=(20,10))\n",
    "# Scatter the points, using size and color but no label\n",
    "plt.scatter(lon, lat, label=None,\n",
    "            c=np.log10(population), cmap='viridis',\n",
    "            s=area, linewidth=0, alpha=0.5)\n",
    "\n",
    "plt.xlabel('longitude')\n",
    "plt.ylabel('latitude')\n",
    "plt.colorbar(label='log$_{10}$(population)')\n",
    "plt.clim(3, 7)\n",
    "\n",
    "# Here we create a legend:\n",
    "# we'll plot empty lists with the desired size and label\n",
    "for area in [100, 300, 500]:\n",
    "    plt.scatter([], [], c='k', alpha=0.3, s=area,\n",
    "                label=str(area) + ' km$^2$')\n",
    "plt.legend(scatterpoints=1, frameon=False, labelspacing=1, title='City Area')\n",
    "\n",
    "plt.title('California Cities: Area and Population');"
   ]
  },
  {
   "cell_type": "markdown",
   "id": "d5504c9e-ab99-410e-b2f5-efae3d6c8ed1",
   "metadata": {
    "colab_type": "text",
    "id": "Tt6nwXME0U2m"
   },
   "source": [
    "La leyenda siempre hará referencia a algún objeto que se encuentre en el gráfico, por lo que si queremos mostrar una forma concreta tenemos que trazarla.\n",
    "En este caso, los objetos que queremos (círculos grises) no están en el gráfico, así que **los falsificamos trazando listas vacías.**\n",
    "Observa también que la leyenda sólo muestra los elementos del gráfico que tienen una etiqueta especificada.\n",
    "\n",
    "Al trazar listas vacías, creamos objetos de trazado etiquetados que son recogidos por la leyenda, y ahora nuestra leyenda nos dice alguna información útil.\n",
    "**Esta estrategia puede ser útil para crear visualizaciones más sofisticadas.\n",
    "\n",
    "Por último, ten en cuenta que para **datos geográficos como éste, sería más claro si pudiéramos mostrar los límites del estado** u otros elementos específicos del mapa.\n",
    "Para esto, una excelente opción de herramienta es el kit de herramientas Basemap de Matplotlib, que exploraremos en Datos geográficos con Basemap."
   ]
  },
  {
   "cell_type": "markdown",
   "id": "36a0f1e4-7e44-49e2-b606-93c2da46f2dd",
   "metadata": {
    "colab_type": "text",
    "id": "MkEbdogU0U2n"
   },
   "source": [
    "## Múltiples leyendas\n",
    "\n",
    "A veces, cuando se diseña un gráfico, se desea añadir múltiples leyendas a los mismos ejes.\n",
    "Desafortunadamente, Matplotlib no lo hace fácil: a través de la interfaz estándar de ``leyendas``, sólo es posible crear una única leyenda para todo el gráfico.\n",
    "**Si tratas de crear una segunda leyenda usando ``plt.legend()`` o ``ax.legend()``, simplemente anulará la primera.\n",
    "Podemos solucionar esto creando un nuevo artista de leyenda desde cero, y luego utilizando el método de nivel inferior ``ax.add_artist()`` para añadir manualmente el segundo artista al gráfico:"
   ]
  },
  {
   "cell_type": "code",
   "execution_count": null,
   "id": "953d5ffd-3bdd-4592-8fa7-d63b9381c0cb",
   "metadata": {
    "colab": {},
    "colab_type": "code",
    "collapsed": false,
    "id": "-Wnn7o0N0U2n",
    "jupyter": {
     "outputs_hidden": false
    },
    "outputId": "5d0f3743-0b2c-4f6b-e75d-1442f21189d5"
   },
   "outputs": [],
   "source": [
    "fig, ax = plt.subplots()\n",
    "\n",
    "lines = []\n",
    "styles = ['-', '--', '-.', ':']\n",
    "x = np.linspace(0, 10, 1000)\n",
    "\n",
    "for i in range(4):\n",
    "    lines += ax.plot(x, np.sin(x - i * np.pi / 2),\n",
    "                     styles[i], color='black')\n",
    "ax.axis('equal')\n",
    "\n",
    "# specify the lines and labels of the first legend\n",
    "ax.legend(lines[:2], ['line A', 'line B'],\n",
    "          loc='upper right', frameon=False)\n",
    "\n",
    "# Create the second legend and add the artist manually.\n",
    "from matplotlib.legend import Legend\n",
    "leg = Legend(ax, lines[2:], ['line C', 'line D'],\n",
    "             loc='lower right', frameon=False)\n",
    "ax.add_artist(leg);"
   ]
  },
  {
   "cell_type": "markdown",
   "id": "89a24674-90dd-45f6-8f87-a725ee78c97a",
   "metadata": {
    "colab_type": "text",
    "id": "AkziVio50U2o"
   },
   "source": [
    "Este es un vistazo a los objetos artísticos de bajo nivel que componen cualquier gráfico de Matplotlib.\n",
    "Si examina el código fuente de ``ax.legend()`` (recuerde que puede hacer esto dentro del cuaderno IPython usando ``ax.legend??``) verá que la función simplemente consiste en algo de lógica para crear un artista ``Legend`` adecuado, que luego se guarda en el atributo ``legend_`` y se añade a la figura cuando se dibuja el gráfico."
   ]
  }
 ],
 "metadata": {
  "kernelspec": {
   "display_name": "Python 3.7.9 64-bit",
   "language": "python",
   "name": "python3"
  },
  "language_info": {
   "codemirror_mode": {
    "name": "ipython",
    "version": 3
   },
   "file_extension": ".py",
   "mimetype": "text/x-python",
   "name": "python",
   "nbconvert_exporter": "python",
   "pygments_lexer": "ipython3",
   "version": "3.7.9"
  },
  "vscode": {
   "interpreter": {
    "hash": "ec2a379ed5c25334a484232182c9d38ef8bd9861e2542d0c517568c4f99a9a7c"
   }
  }
 },
 "nbformat": 4,
 "nbformat_minor": 5
}
