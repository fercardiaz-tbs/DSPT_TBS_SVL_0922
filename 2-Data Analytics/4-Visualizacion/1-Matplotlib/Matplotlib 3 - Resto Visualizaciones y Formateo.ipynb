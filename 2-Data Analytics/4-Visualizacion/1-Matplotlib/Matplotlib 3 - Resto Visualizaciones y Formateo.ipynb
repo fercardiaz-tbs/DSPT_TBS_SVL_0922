{
 "cells": [
  {
   "cell_type": "markdown",
   "metadata": {
    "colab_type": "text",
    "id": "Y-C_w4xZ0U2G"
   },
   "source": [
    "# Histogramas, Binnings, and Densidad"
   ]
  },
  {
   "cell_type": "markdown",
   "metadata": {
    "colab_type": "text",
    "id": "6vMugtnS0U2G"
   },
   "source": [
    "Un simple histograma puede ser un gran primer paso para entender un conjunto de datos. ¡Veamos el poder de los histogramas!"
   ]
  },
  {
   "cell_type": "code",
   "execution_count": null,
   "metadata": {
    "colab": {},
    "colab_type": "code",
    "id": "ojCjBbF-0U2H"
   },
   "outputs": [],
   "source": [
    "%matplotlib inline\n",
    "import numpy as np\n",
    "import matplotlib.pyplot as plt\n",
    "plt.style.use('seaborn-white')\n",
    "\n",
    "data = np.random.randn(1000)"
   ]
  },
  {
   "cell_type": "code",
   "execution_count": null,
   "metadata": {
    "colab": {
     "base_uri": "https://localhost:8080/",
     "height": 273
    },
    "colab_type": "code",
    "collapsed": false,
    "id": "K_oqUj7K0U2I",
    "jupyter": {
     "outputs_hidden": false
    },
    "outputId": "d46aa15c-5d3f-4ab2-d533-cd0fa9e7764f"
   },
   "outputs": [],
   "source": [
    "plt.hist(data);"
   ]
  },
  {
   "cell_type": "markdown",
   "metadata": {
    "colab_type": "text",
    "id": "ZNMo4mBW0U2J"
   },
   "source": [
    "La función ``hist()`` tiene muchas opciones para ajustar tanto el cálculo como la propia visualización; \n",
    "aquí hay un ejemplo de un histograma más personalizado:"
   ]
  },
  {
   "cell_type": "code",
   "execution_count": null,
   "metadata": {
    "colab": {
     "base_uri": "https://localhost:8080/",
     "height": 273
    },
    "colab_type": "code",
    "collapsed": false,
    "id": "-XxbzM6O0U2J",
    "jupyter": {
     "outputs_hidden": false
    },
    "outputId": "1b237d64-84b9-476d-82d7-461fa1ca6850"
   },
   "outputs": [],
   "source": [
    "plt.hist(data,\n",
    "         bins = 30,\n",
    "        alpha = 0.5,\n",
    "        color = 'steelblue');"
   ]
  },
  {
   "cell_type": "markdown",
   "metadata": {
    "colab_type": "text",
    "id": "cUfVoLz40U2K"
   },
   "source": [
    "El docstring ``plt.hist`` tiene más información sobre otras opciones de personalización disponibles.\n",
    "El grado de transparencia ``alpha`` es muy útil cuando se comparan histogramas de varias distribuciones:"
   ]
  },
  {
   "cell_type": "code",
   "execution_count": null,
   "metadata": {
    "colab": {
     "base_uri": "https://localhost:8080/",
     "height": 273
    },
    "colab_type": "code",
    "collapsed": false,
    "id": "Ufxj8fiF0U2K",
    "jupyter": {
     "outputs_hidden": false
    },
    "outputId": "686e3b04-8fe2-412f-e5b8-76f429686f45"
   },
   "outputs": [],
   "source": [
    "x1 = np.random.normal(0, 0.8, 1000)\n",
    "x2 = np.random.normal(-2, 1, 1000)\n",
    "x3 = np.random.normal(3, 2, 1000)\n",
    "\n",
    "kwargs = dict(alpha = 0.5, bins = 50)\n",
    "\n",
    "plt.hist(x1, **kwargs)\n",
    "plt.hist(x2, **kwargs)\n",
    "plt.hist(x3, **kwargs);"
   ]
  },
  {
   "cell_type": "markdown",
   "metadata": {
    "colab_type": "text",
    "id": "3JWU7L-z0U2M"
   },
   "source": [
    "Si qioeres simplemente calcular el histograma (es decir, contar el número de puntos en una casilla determinada) y no mostrarlo, tenemos la función ``np.histogram()``:"
   ]
  },
  {
   "cell_type": "code",
   "execution_count": null,
   "metadata": {
    "colab": {},
    "colab_type": "code",
    "collapsed": false,
    "id": "ZFkGjxpT0U2M",
    "jupyter": {
     "outputs_hidden": false
    },
    "outputId": "f9d714a5-2db8-4270-c581-50da10791fc6"
   },
   "outputs": [],
   "source": [
    "counts, bin_edges = np.histogram(data, bins=5)\n",
    "print(counts)"
   ]
  },
  {
   "cell_type": "code",
   "execution_count": null,
   "metadata": {},
   "outputs": [],
   "source": [
    "bin_edges"
   ]
  },
  {
   "cell_type": "markdown",
   "metadata": {
    "colab_type": "text",
    "id": "ShcOcBx60U2N"
   },
   "source": [
    "## Histogramas bidimensionales y Binnings\n",
    "\n",
    "Al igual que creamos histogramas en una dimensión dividiendo la línea de números en intervalos, también podemos crear histogramas en dos dimensiones dividiendo los puntos entre intervalos bidimensionales.\n",
    "Vamos a ver brevemente varias formas de hacerlo.\n",
    "Empezaremos definiendo algunos datos una matriz de ``x`` e ``y`` extraída de una distribución gaussiana multivariante:"
   ]
  },
  {
   "cell_type": "code",
   "execution_count": null,
   "metadata": {
    "colab": {},
    "colab_type": "code",
    "collapsed": false,
    "id": "C-QZ_iuW0U2N",
    "jupyter": {
     "outputs_hidden": false
    }
   },
   "outputs": [],
   "source": [
    "mean = [0, 0]\n",
    "cov = [[1, 1], [1, 2]]\n",
    "x, y = np.random.multivariate_normal(mean, cov, 10000).T"
   ]
  },
  {
   "cell_type": "markdown",
   "metadata": {
    "colab_type": "text",
    "id": "Q1VuQlMf0U2P"
   },
   "source": [
    "### ``plt.hist2d``: Histograma bidimensional\n",
    "\n",
    "Una forma directa de trazar un histograma bidimensional es utilizar la función ``plt.hist2d`` de Matplotlib:"
   ]
  },
  {
   "cell_type": "code",
   "execution_count": null,
   "metadata": {},
   "outputs": [],
   "source": [
    "plt.hist(x);"
   ]
  },
  {
   "cell_type": "code",
   "execution_count": null,
   "metadata": {},
   "outputs": [],
   "source": [
    "plt.hist(y);"
   ]
  },
  {
   "cell_type": "code",
   "execution_count": null,
   "metadata": {
    "colab": {},
    "colab_type": "code",
    "collapsed": false,
    "id": "pbNv12zQ0U2P",
    "jupyter": {
     "outputs_hidden": false
    },
    "outputId": "8b08dea5-4430-40ab-f8be-e0e9716ba3cf"
   },
   "outputs": [],
   "source": [
    "plt.hist2d(x, y, bins = 30, cmap = 'Blues');\n",
    "cb = plt.colorbar()\n",
    "cb.set_label('counts in bin');"
   ]
  },
  {
   "cell_type": "markdown",
   "metadata": {
    "colab_type": "text",
    "id": "7ViPYof40U2Q"
   },
   "source": [
    "Al igual que ``plt.hist``, ``plt.hist2d`` tiene una serie de opciones adicionales para ajustar el gráfico y el binning, que están muy bien descritas en el docstring de la función.\n",
    "Además, al igual que ``plt.hist`` tiene una contrapartida en ``np.histogram``, ``plt.hist2d`` tiene una contrapartida en ``np.histogram2d``, que se puede utilizar como sigue:"
   ]
  },
  {
   "cell_type": "code",
   "execution_count": null,
   "metadata": {
    "colab": {},
    "colab_type": "code",
    "collapsed": false,
    "id": "BgiBlR7d0U2Q",
    "jupyter": {
     "outputs_hidden": false
    }
   },
   "outputs": [],
   "source": [
    "counts, xedges, yedges = np.histogram2d(x, y, bins=30)"
   ]
  },
  {
   "cell_type": "markdown",
   "metadata": {
    "colab_type": "text",
    "id": "O6pgLxpI0U2R"
   },
   "source": [
    "For the generalization of this histogram binning in dimensions higher than two, see the ``np.histogramdd`` function."
   ]
  },
  {
   "cell_type": "markdown",
   "metadata": {
    "colab_type": "text",
    "id": "_UbnczsI0U2T"
   },
   "source": [
    "### ``plt.hexbin``: Binnings Hexagonales\n",
    "\n",
    "El histograma bidimensional crea una representación de cuadrados a través de los ejes.\n",
    "Otra forma natural para tal representación es el hexágono regular.\n",
    "Para este propósito, Matplotlib proporciona la rutina ``plt.hexbin``, que representará un conjunto de datos bidimensionales divididos en una cuadrícula de hexágonos:"
   ]
  },
  {
   "cell_type": "code",
   "execution_count": null,
   "metadata": {
    "colab": {},
    "colab_type": "code",
    "collapsed": false,
    "id": "WpvIhfLO0U2T",
    "jupyter": {
     "outputs_hidden": false
    },
    "outputId": "f16a8c65-9ec5-46a4-a797-e32999272357"
   },
   "outputs": [],
   "source": [
    "plt.hexbin(x, y, gridsize = 20, cmap = 'Blues')\n",
    "cb = plt.colorbar(label='count in bin');"
   ]
  },
  {
   "cell_type": "markdown",
   "metadata": {
    "colab_type": "text",
    "id": "O88qiHmH0U2U"
   },
   "source": [
    "``plt.hexbin`` tiene un número de opciones interesantes, incluyendo la capacidad de especificar pesos para cada punto, y de cambiar la salida en cada bin a cualquier agregado de NumPy (media de pesos, desviación estándar de pesos, etc.)."
   ]
  },
  {
   "cell_type": "markdown",
   "metadata": {
    "colab_type": "text",
    "id": "Q648Qm_q0U2W"
   },
   "source": [
    "# Personalización de las leyendas"
   ]
  },
  {
   "cell_type": "markdown",
   "metadata": {
    "colab_type": "text",
    "id": "xX688RPe0U2X"
   },
   "source": [
    "Las leyendas de los gráficos dan sentido a una visualización, asignando un significado a los distintos elementos del gráfico.\n",
    "Anteriormente vimos cómo crear una leyenda simple; aquí echaremos un vistazo a la personalización de la colocación y la estética de la leyenda en Matplotlib.\n",
    "\n",
    "La leyenda más sencilla puede crearse con el comando ``plt.legend()``, que crea automáticamente una leyenda para cualquier elemento del gráfico etiquetado:"
   ]
  },
  {
   "cell_type": "code",
   "execution_count": null,
   "metadata": {
    "colab": {},
    "colab_type": "code",
    "id": "Kik_GQwd0U2X"
   },
   "outputs": [],
   "source": [
    "import matplotlib.pyplot as plt\n",
    "plt.style.use('classic')"
   ]
  },
  {
   "cell_type": "code",
   "execution_count": null,
   "metadata": {
    "colab": {},
    "colab_type": "code",
    "id": "IvQ_aowG0U2Y"
   },
   "outputs": [],
   "source": [
    "%matplotlib inline\n",
    "import numpy as np"
   ]
  },
  {
   "cell_type": "code",
   "execution_count": null,
   "metadata": {
    "colab": {
     "base_uri": "https://localhost:8080/",
     "height": 268
    },
    "colab_type": "code",
    "collapsed": false,
    "id": "mPjnWdUM0U2Z",
    "jupyter": {
     "outputs_hidden": false
    },
    "outputId": "b80211a8-92d8-4c6e-beea-a9698bef5844"
   },
   "outputs": [],
   "source": [
    "x = np.linspace(0, 10, 1000)\n",
    "fig, ax = plt.subplots()\n",
    "ax.plot(x, np.sin(x), '-b', label='Sine')\n",
    "ax.plot(x, np.cos(x), '--r', label='Cosine')\n",
    "ax.axis('equal') # Same scale in x and y\n",
    "ax.legend();"
   ]
  },
  {
   "cell_type": "markdown",
   "metadata": {
    "colab_type": "text",
    "id": "gAs5e9SA0U2a"
   },
   "source": [
    "Pero hay muchas formas en las que podemos querer personalizar dicha leyenda.\n",
    "Por ejemplo, podemos especificar la ubicación y desactivar el marco:"
   ]
  },
  {
   "cell_type": "code",
   "execution_count": null,
   "metadata": {
    "colab": {
     "base_uri": "https://localhost:8080/",
     "height": 268
    },
    "colab_type": "code",
    "collapsed": false,
    "id": "gyX0AufM0U2b",
    "jupyter": {
     "outputs_hidden": false
    },
    "outputId": "3b5ca107-8fa6-4183-9f0f-9da36f889209"
   },
   "outputs": [],
   "source": [
    "ax.legend(loc = 'upper left', frameon = False)\n",
    "fig"
   ]
  },
  {
   "cell_type": "markdown",
   "metadata": {
    "colab_type": "text",
    "id": "s4S-N1aB0U2c"
   },
   "source": [
    "Podemos utilizar el comando ``ncol`` para especificar el número de columnas de la leyenda:"
   ]
  },
  {
   "cell_type": "code",
   "execution_count": null,
   "metadata": {
    "colab": {},
    "colab_type": "code",
    "id": "PS-1j09z0U2c",
    "outputId": "ec4a3ca3-85b3-45c1-9aee-462c258e3873",
    "tags": []
   },
   "outputs": [],
   "source": [
    "ax.legend(loc = 'lower center', frameon = False, ncol = 2)\n",
    "fig"
   ]
  },
  {
   "cell_type": "markdown",
   "metadata": {
    "colab_type": "text",
    "id": "sDPXS3oO0U2d"
   },
   "source": [
    "Podemos utilizar una caja redondeada (``fancybox``) o añadir una sombra, cambiar la transparencia (valor alfa) del marco, o cambiar el relleno alrededor del texto:"
   ]
  },
  {
   "cell_type": "code",
   "execution_count": null,
   "metadata": {
    "colab": {},
    "colab_type": "code",
    "collapsed": false,
    "id": "4dUGA9NR0U2e",
    "jupyter": {
     "outputs_hidden": false
    },
    "outputId": "aa34b11c-4043-42d8-ac90-898911889057"
   },
   "outputs": [],
   "source": [
    "ax.legend(fancybox=True, framealpha=0.1, shadow=True, borderpad=1)\n",
    "fig"
   ]
  },
  {
   "cell_type": "markdown",
   "metadata": {
    "colab_type": "text",
    "id": "cMqkARsE0U2h"
   },
   "source": [
    "Para más información sobre las opciones de leyenda disponibles, puedes consultar el docstring ``plt.legend``."
   ]
  },
  {
   "cell_type": "markdown",
   "metadata": {
    "colab_type": "text",
    "id": "IBt9gErE0U2i"
   },
   "source": [
    "## Elección de elementos para la leyenda\n",
    "\n",
    "Como ya hemos visto, la leyenda incluye por defecto todos los elementos etiquetados.\n",
    "Si esto no es lo que queremos, podemos afinar qué elementos y etiquetas aparecen en la leyenda utilizando los objetos devueltos por los comandos de la gráfica.\n",
    "El comando ``plt.plot()`` es capaz de crear múltiples líneas a la vez, y devuelve una lista de instancias de líneas creadas.\n",
    "Si pasamos cualquiera de ellas a ``plt.legend()`` le diremos cuáles identificar, junto con las etiquetas que queramos especificar:"
   ]
  },
  {
   "cell_type": "code",
   "execution_count": null,
   "metadata": {
    "colab": {},
    "colab_type": "code",
    "collapsed": false,
    "id": "cFf7akaQ0U2i",
    "jupyter": {
     "outputs_hidden": false
    },
    "outputId": "a935ff8e-a716-4a04-a2b4-73a34b06ba2b"
   },
   "outputs": [],
   "source": [
    "y = np.sin(x[:, np.newaxis] + np.pi * np.arange(0, 2, 0.5))\n",
    "lines = plt.plot(x, y)\n",
    "\n",
    "# lines is a list of plt.Line2D instances\n",
    "plt.legend(lines[:2], ['first', 'second']);"
   ]
  },
  {
   "cell_type": "markdown",
   "metadata": {
    "colab_type": "text",
    "id": "H9Z2_yZZ0U2j"
   },
   "source": [
    "En la práctica, suelo encontrar más claro el primer método, aplicando etiquetas a los elementos del gráfico que quieres mostrar en la leyenda:"
   ]
  },
  {
   "cell_type": "code",
   "execution_count": null,
   "metadata": {
    "colab": {},
    "colab_type": "code",
    "collapsed": false,
    "id": "G1aF-sHQ0U2j",
    "jupyter": {
     "outputs_hidden": false
    },
    "outputId": "ed842da1-4f09-41d0-cd15-5c8e75634f1d"
   },
   "outputs": [],
   "source": [
    "plt.plot(x, y[:, 0], label='first')\n",
    "plt.plot(x, y[:, 1], label='second')\n",
    "plt.plot(x, y[:, 2:])\n",
    "plt.legend(framealpha=1, frameon=True);"
   ]
  },
  {
   "cell_type": "markdown",
   "metadata": {
    "colab_type": "text",
    "id": "i4t-02uQ0U2l"
   },
   "source": [
    "Ten en cuenta que, por defecto, la leyenda ignora todos los elementos sin un atributo ``label`` establecido."
   ]
  },
  {
   "cell_type": "markdown",
   "metadata": {
    "colab_type": "text",
    "id": "9uELEdB40U2l"
   },
   "source": [
    "## Leyenda para el tamaño de los puntos\n",
    "\n",
    "A veces los valores predeterminados de la leyenda no son suficientes para la visualización dada.\n",
    "Por ejemplo, tal vez si estás utilizando el tamaño de los puntos para marcar ciertas características de los datos, y quieres crear una leyenda que lo refleje.\n",
    "Este es un ejemplo en el que utilizaremos el tamaño de los puntos para indicar las poblaciones de las ciudades de California.\n",
    "Queremos una leyenda que especifique la escala de los tamaños de los puntos, y lo lograremos trazando algunos datos etiquetados sin entradas:"
   ]
  },
  {
   "cell_type": "code",
   "execution_count": null,
   "metadata": {},
   "outputs": [],
   "source": [
    "import pandas as pd\n",
    "cities = pd.read_csv('data/california_cities.csv')\n",
    "cities.head()"
   ]
  },
  {
   "cell_type": "code",
   "execution_count": null,
   "metadata": {},
   "outputs": [],
   "source": [
    "import pandas as pd\n",
    "cities = pd.read_csv('data/california_cities.csv')\n",
    "\n",
    "# Extract the data we're interested in\n",
    "lat, lon = cities['latd'], cities['longd']\n",
    "population, area = cities['population_total'], cities['area_total_km2']\n",
    "\n",
    "plt.figure(figsize=(20,10))\n",
    "# Scatter the points, using size and color but no label\n",
    "plt.scatter(lon, lat, label=None,\n",
    "            c=np.log10(population), cmap='viridis',\n",
    "            s=area, linewidth=0, alpha=0.5)\n",
    "\n",
    "plt.xlabel('longitude')\n",
    "plt.ylabel('latitude')\n",
    "plt.colorbar(label='log$_{10}$(population)')\n",
    "plt.clim(3, 7)\n",
    "\n",
    "# Here we create a legend:\n",
    "# we'll plot empty lists with the desired size and label\n",
    "for area in [100, 300, 500]:\n",
    "    plt.scatter([], [], c='k', alpha=0.3, s=area,\n",
    "                label=str(area) + ' km$^2$')\n",
    "plt.legend(scatterpoints=1, frameon=False, labelspacing=1, title='City Area')\n",
    "\n",
    "plt.title('California Cities: Area and Population');"
   ]
  },
  {
   "cell_type": "markdown",
   "metadata": {
    "colab_type": "text",
    "id": "Tt6nwXME0U2m"
   },
   "source": [
    "La leyenda siempre hará referencia a algún objeto que se encuentre en el gráfico, por lo que si queremos mostrar una forma concreta tenemos que pintarla/trazarla.\n",
    "En este caso, los objetos que queremos (círculos grises) no están en el gráfico, así que **los falsificamos trazando listas vacías.**\n",
    "Observa también que la leyenda sólo muestra los elementos del gráfico que tienen una etiqueta especificada.\n",
    "\n",
    "Al trazar listas vacías, creamos objetos de trazado etiquetados que son recogidos por la leyenda, y ahora nuestra leyenda nos dice alguna información útil.\n",
    "**Esta estrategia puede ser útil para crear visualizaciones más sofisticadas.\n",
    "\n",
    "Por último, ten en cuenta que para **datos geográficos como éste, sería más claro si pudiéramos mostrar los límites del estado** u otros elementos específicos del mapa.\n",
    "Para esto, una excelente opción de herramienta es el kit de herramientas **Basemap de Matplotlib.**"
   ]
  },
  {
   "cell_type": "markdown",
   "metadata": {
    "colab_type": "text",
    "id": "MkEbdogU0U2n"
   },
   "source": [
    "## Múltiples leyendas\n",
    "\n",
    "A veces, cuando se diseña un gráfico, se desea añadir múltiples leyendas a los mismos ejes.\n",
    "Desafortunadamente, Matplotlib no lo hace fácil: a través de la interfaz estándar de ``leyendas``, sólo es posible crear una única leyenda para todo el gráfico.\n",
    "**Si tratas de crear una segunda leyenda usando ``plt.legend()`` o ``ax.legend()``, simplemente anulará la primera.\n",
    "Podemos solucionar esto creando un nuevo *legend artist* desde cero, y luego utilizando el método de nivel inferior ``ax.add_artist()`` para añadir manualmente el segundo artista al gráfico:"
   ]
  },
  {
   "cell_type": "code",
   "execution_count": null,
   "metadata": {
    "colab": {},
    "colab_type": "code",
    "collapsed": false,
    "id": "-Wnn7o0N0U2n",
    "jupyter": {
     "outputs_hidden": false
    },
    "outputId": "5d0f3743-0b2c-4f6b-e75d-1442f21189d5"
   },
   "outputs": [],
   "source": [
    "fig, ax = plt.subplots()\n",
    "\n",
    "lines = []\n",
    "styles = ['-', '--', '-.', ':']\n",
    "x = np.linspace(0, 10, 1000)\n",
    "\n",
    "for i in range(4):\n",
    "    lines += ax.plot(x, np.sin(x - i * np.pi / 2),\n",
    "                     styles[i], color='black')\n",
    "ax.axis('equal')\n",
    "\n",
    "# specify the lines and labels of the first legend\n",
    "ax.legend(lines[:2], ['line A', 'line B'],\n",
    "          loc='upper right', frameon=False)\n",
    "\n",
    "# Create the second legend and add the artist manually.\n",
    "from matplotlib.legend import Legend\n",
    "leg = Legend(ax, lines[2:], ['line C', 'line D'],\n",
    "             loc='lower right', frameon=False)\n",
    "ax.add_artist(leg);"
   ]
  },
  {
   "cell_type": "markdown",
   "metadata": {
    "colab_type": "text",
    "id": "AkziVio50U2o"
   },
   "source": [
    "Esto es un vistazo a los objetos de bajo nivel que componen cualquier gráfico de Matplotlib.\n",
    "Si examinamos el código fuente de ``ax.legend()`` (recordemos que podemos hacer esto dentro del notebook IPython usando ``ax.legend??``) y veremos que la función simplemente consiste en algo de lógica para crear un *artist* ``Legend`` adecuado, que luego se guarda en el atributo ``legend_`` y se añade a la figura cuando se dibuja el gráfico."
   ]
  },
  {
   "cell_type": "markdown",
   "metadata": {
    "colab_type": "text",
    "id": "tNO9q6X00U2o"
   },
   "source": [
    "# Personalización de las barras de colores"
   ]
  },
  {
   "cell_type": "markdown",
   "metadata": {
    "colab_type": "text",
    "id": "z0BoOXQ50U2o"
   },
   "source": [
    "**Las leyendas de los gráficos identifican etiquetas discretas de puntos discretos.\n",
    "Para las etiquetas continuas basadas en el color de los puntos, líneas o regiones, una barra de color etiquetada puede ser una gran herramienta.**\n",
    "En Matplotlib, una barra de color es un eje separado que puede proporcionar una clave para el significado de los colores en un gráfico.\n",
    "Comenzaremos configurando el notebook para trazar e importando las funciones que utilizaremos:"
   ]
  },
  {
   "cell_type": "code",
   "execution_count": null,
   "metadata": {
    "colab": {},
    "colab_type": "code",
    "id": "5q_RsDoB0U2o"
   },
   "outputs": [],
   "source": [
    "import matplotlib.pyplot as plt\n",
    "plt.style.use('classic')"
   ]
  },
  {
   "cell_type": "code",
   "execution_count": null,
   "metadata": {
    "colab": {},
    "colab_type": "code",
    "collapsed": false,
    "id": "lElhHPA00U2p",
    "jupyter": {
     "outputs_hidden": false
    }
   },
   "outputs": [],
   "source": [
    "%matplotlib inline\n",
    "import numpy as np"
   ]
  },
  {
   "cell_type": "markdown",
   "metadata": {
    "colab_type": "text",
    "id": "Kcp_6X-N0U2q"
   },
   "source": [
    "Como hemos visto varias veces a lo largo de esta sección, la barra de colores más sencilla se puede crear con la función ``plt.colorbar``:"
   ]
  },
  {
   "cell_type": "code",
   "execution_count": null,
   "metadata": {
    "colab": {
     "base_uri": "https://localhost:8080/",
     "height": 273
    },
    "colab_type": "code",
    "collapsed": false,
    "id": "suIU6Kl80U2q",
    "jupyter": {
     "outputs_hidden": false
    },
    "outputId": "bfcafd98-cec0-467e-a418-69f0b126ba96"
   },
   "outputs": [],
   "source": [
    "x = np.linspace(0, 10, 1000)\n",
    "I = np.sin(x) * np.cos(x[:, np.newaxis])\n",
    "\n",
    "plt.imshow(I)\n",
    "plt.colorbar();"
   ]
  },
  {
   "cell_type": "markdown",
   "metadata": {
    "colab_type": "text",
    "id": "rLSnPjtI0U2s"
   },
   "source": [
    "A continuación, discutiremos algunas ideas para personalizar estas barras de color y utilizarlas eficazmente en diversas situaciones."
   ]
  },
  {
   "cell_type": "markdown",
   "metadata": {
    "colab_type": "text",
    "id": "uixheuV60U2s"
   },
   "source": [
    "## Personalización de las barras de color\n",
    "\n",
    "El mapa de colores se puede especificar utilizando el argumento ``cmap`` a la función de trazado que está creando la visualización:"
   ]
  },
  {
   "cell_type": "code",
   "execution_count": null,
   "metadata": {
    "colab": {},
    "colab_type": "code",
    "collapsed": false,
    "id": "J8De9uJL0U2s",
    "jupyter": {
     "outputs_hidden": false
    },
    "outputId": "53080b92-7228-434e-caca-24f7774cee71"
   },
   "outputs": [],
   "source": [
    "plt.imshow(I, cmap = 'viridis');"
   ]
  },
  {
   "cell_type": "markdown",
   "metadata": {
    "colab_type": "text",
    "id": "sOzsmaid0U2t"
   },
   "source": [
    "Todos los mapas de colores disponibles se encuentran en el espacio de nombres ``plt.cm``; si se utiliza la función de completar pestañas de IPython se obtendrá una lista completa de las posibilidades incorporadas:\n",
    "```\n",
    "plt.cm.<TAB>\n",
    "```\n",
    "Pero ser *capaz* de elegir un mapa de colores es sólo el primer paso: ¡más importante es cómo *decidir* entre las posibilidades!\n",
    "La elección resulta ser mucho más sutil de lo que se podría esperar inicialmente."
   ]
  },
  {
   "cell_type": "markdown",
   "metadata": {
    "colab_type": "text",
    "id": "WHv5IvR80U2u"
   },
   "source": [
    "### Elección del mapa de colores\n",
    "\n",
    "Las pautas de elección del color dentro de la visualización está más allá del alcance de este notebook, un artículo bastante bueno es el siguiente; [\"Ten Simple Rules for Better Figures\"](http://journals.plos.org/ploscompbiol/article?id=10.1371/journal.pcbi.1003833).\n",
    "La documentación en línea de Matplotlib también tiene una [interesante discusión](http://Matplotlib.org/1.4.1/users/colormaps.html) sobre la elección del mapa de colores.\n",
    "\n",
    "A grandes rasgos, vamos a ver las tres categorías diferentes de mapas de colores:\n",
    "\n",
    "- Mapa de color secuencial: Están formados por una secuencia continua de colores (por ejemplo, ``binario`` o ``viridis``).\n",
    "- Mapas de colores divergentes: Suelen contener dos colores distintos, que muestran desviaciones positivas y negativas de una media (por ejemplo, ``RdBu`` o ``PuOr``).\n",
    "- Mapas de colores cualitativos***: mezclan colores sin una secuencia determinada (por ejemplo, ``arco iris`` o ``chorro``).\n",
    "\n",
    "El mapa de color ``jet``, que era el predeterminado en Matplotlib antes de la versión 2.0, es un ejemplo de mapa de color cualitativo.\n",
    "Su status por defecto era bastante desafortunado, porque los mapas cualitativos son a menudo una mala elección para representar datos cuantitativos.\n",
    "Uno de los problemas es el hecho de que los mapas cualitativos no suelen mostrar una progresión uniforme del brillo a medida que aumenta la escala.\n",
    "\n",
    "Podemos comprobarlo convirtiendo la barra de colores ``jet`` en blanco y negro:"
   ]
  },
  {
   "cell_type": "code",
   "execution_count": null,
   "metadata": {
    "colab": {},
    "colab_type": "code",
    "collapsed": false,
    "id": "gawXfh4W0U2u",
    "jupyter": {
     "outputs_hidden": false
    }
   },
   "outputs": [],
   "source": [
    "from matplotlib.colors import LinearSegmentedColormap\n",
    "\n",
    "def grayscale_cmap(cmap):\n",
    "    \"\"\"Return a grayscale version of the given colormap\"\"\"\n",
    "    cmap = plt.cm.get_cmap(cmap)\n",
    "    colors = cmap(np.arange(cmap.N))\n",
    "    \n",
    "    # convert RGBA to perceived grayscale luminance\n",
    "    # cf. http://alienryderflex.com/hsp.html\n",
    "    RGB_weight = [0.299, 0.587, 0.114]\n",
    "    luminance = np.sqrt(np.dot(colors[:, :3] ** 2, RGB_weight))\n",
    "    colors[:, :3] = luminance[:, np.newaxis]\n",
    "        \n",
    "    return LinearSegmentedColormap.from_list(cmap.name + \"_gray\", colors, cmap.N)\n",
    "    \n",
    "\n",
    "def view_colormap(cmap):\n",
    "    \"\"\"Plot a colormap with its grayscale equivalent\"\"\"\n",
    "    cmap = plt.cm.get_cmap(cmap)\n",
    "    colors = cmap(np.arange(cmap.N))\n",
    "    \n",
    "    cmap = grayscale_cmap(cmap)\n",
    "    grayscale = cmap(np.arange(cmap.N))\n",
    "    \n",
    "    fig, ax = plt.subplots(2, figsize=(6, 2),\n",
    "                           subplot_kw=dict(xticks=[], yticks=[]))\n",
    "    ax[0].imshow([colors], extent=[0, 10, 0, 1])\n",
    "    ax[1].imshow([grayscale], extent=[0, 10, 0, 1])"
   ]
  },
  {
   "cell_type": "code",
   "execution_count": null,
   "metadata": {
    "colab": {},
    "colab_type": "code",
    "collapsed": false,
    "id": "3-jvGUq10U2v",
    "jupyter": {
     "outputs_hidden": false
    },
    "outputId": "e5ac962b-e80c-43a9-8429-3127dff72b9d"
   },
   "outputs": [],
   "source": [
    "view_colormap('jet')"
   ]
  },
  {
   "cell_type": "markdown",
   "metadata": {
    "colab_type": "text",
    "id": "W5ghvHbx0U2w"
   },
   "source": [
    "Date cuenta que las franjas brillantes en la imagen en escala de grises.\n",
    "Incluso a todo color, este brillo desigual significa que el ojo será atraído a ciertas porciones de la gama de colores, lo que potencialmente enfatizará las partes no importantes del conjunto de datos.\n",
    "Es mejor utilizar un mapa de color como ``viridis`` (el predeterminado a partir de Matplotlib 2.0), que está construido específicamente para tener una variación de brillo uniforme en toda la gama.\n",
    "Por lo tanto, no sólo juega bien con nuestra percepción del color, sino que también se traducirá bien a la impresión en escala de grises:"
   ]
  },
  {
   "cell_type": "code",
   "execution_count": null,
   "metadata": {
    "colab": {},
    "colab_type": "code",
    "collapsed": false,
    "id": "Mw4wslKA0U2y",
    "jupyter": {
     "outputs_hidden": false
    },
    "outputId": "940578c4-dcf9-475f-9d85-8ba159d2dca8"
   },
   "outputs": [],
   "source": [
    "view_colormap('viridis')"
   ]
  },
  {
   "cell_type": "markdown",
   "metadata": {
    "colab_type": "text",
    "id": "PAGnYA4U0U2z"
   },
   "source": [
    "Si te gustan los esquemas de arco iris, otra buena opción para los datos continuos es el mapa de colores ``cubehelix``:"
   ]
  },
  {
   "cell_type": "code",
   "execution_count": null,
   "metadata": {
    "colab": {},
    "colab_type": "code",
    "collapsed": false,
    "id": "JTm0sjKr0U2z",
    "jupyter": {
     "outputs_hidden": false
    },
    "outputId": "bf5615bc-2d60-4b67-ec2c-90a06f5e5c80"
   },
   "outputs": [],
   "source": [
    "view_colormap('cubehelix')"
   ]
  },
  {
   "cell_type": "markdown",
   "metadata": {
    "colab_type": "text",
    "id": "G_-Qy9I60U20"
   },
   "source": [
    "Para otras situaciones, como mostrar las desviaciones positivas y negativas de alguna media, pueden ser útiles las barras de color de dos colores como ``RdBu`` (*Rojo-Azul*). Sin embargo, como puede ver en la siguiente figura, es importante tener en cuenta que la información positiva-negativa se perderá al pasar a escala de grises."
   ]
  },
  {
   "cell_type": "code",
   "execution_count": null,
   "metadata": {
    "colab": {},
    "colab_type": "code",
    "collapsed": false,
    "id": "HYvgy1to0U20",
    "jupyter": {
     "outputs_hidden": false
    },
    "outputId": "182e3925-41dd-48ae-e036-88d9a12dbd38"
   },
   "outputs": [],
   "source": [
    "view_colormap('RdBu')"
   ]
  },
  {
   "cell_type": "markdown",
   "metadata": {
    "colab_type": "text",
    "id": "DJ1BD5s80U21"
   },
   "source": [
    "Veremos ejemplos de uso de algunos de estos mapas de color a medida que avancemos.\n",
    "\n",
    "Hay un gran número de mapas de color disponibles en Matplotlib; para ver una lista de ellos, puedes usar IPython para explorar el submódulo ``plt.cm``."
   ]
  },
  {
   "cell_type": "markdown",
   "metadata": {
    "colab_type": "text",
    "id": "jqp_CWQi0U22"
   },
   "source": [
    "### Límites de color y extensiones\n",
    "\n",
    "Matplotlib permite una gran gama de personalización de la barra de colores.\n",
    "La barra de colores es simplemente una instancia de ``plt.Axes``, por lo que todos los trucos de formato de ejes y trucos que hemos aprendido son aplicables.\n",
    "La barra de colores tiene flexibilidad: por ejemplo, podemos estrechar los límites de color e indicar los valores fuera de los límites con una flecha triangular en la parte superior e inferior estableciendo la propiedad ``extend``.\n",
    "Esto puede ser útil, por ejemplo, si se muestra una imagen que está sujeta a ruido:"
   ]
  },
  {
   "cell_type": "code",
   "execution_count": null,
   "metadata": {
    "colab": {},
    "colab_type": "code",
    "collapsed": false,
    "id": "lM98AdWZ0U22",
    "jupyter": {
     "outputs_hidden": false
    },
    "outputId": "b707a051-352e-48b0-cdfc-ab65e38e44ce"
   },
   "outputs": [],
   "source": [
    "# make noise in 1% of the image pixels\n",
    "speckles = (np.random.random(I.shape) < 0.01)\n",
    "I[speckles] = np.random.normal(0, 3, np.count_nonzero(speckles))\n",
    "\n",
    "plt.figure(figsize=(10, 3.5))\n",
    "\n",
    "plt.subplot(1, 2, 1)\n",
    "plt.imshow(I, cmap='RdBu')\n",
    "plt.colorbar()\n",
    "\n",
    "plt.subplot(1, 2, 2)\n",
    "plt.imshow(I, cmap='RdBu')\n",
    "plt.colorbar(extend='both') # Triangular shape in color bar\n",
    "plt.clim(-1, 1); # Fix the color edges"
   ]
  },
  {
   "cell_type": "markdown",
   "metadata": {
    "colab_type": "text",
    "id": "MIZ9v7AZ0U23"
   },
   "source": [
    "Observa que en el panel de la izquierda, los límites de color por defecto responden a los píxeles *ruidosos*, y el rango del ruido borra completamente el patrón que nos interesa.\n",
    "En el panel de la derecha, fijamos manualmente los límites de color y añadimos extensiones para indicar los valores que están por encima o por debajo de esos límites.\n",
    "El resultado es una visualización mucho más útil de nuestros datos."
   ]
  },
  {
   "cell_type": "markdown",
   "metadata": {
    "colab_type": "text",
    "id": "dPYOALV-0U23"
   },
   "source": [
    "### Barras de color discretas\n",
    "\n",
    "Los mapas de color son por defecto continuos, pero a veces se desea representar valores discretos.\n",
    "La forma más fácil de hacerlo es utilizar la función ``plt.cm.get_cmap()``, y pasar el nombre de un mapa de color adecuado junto con el número de intervalos deseados:"
   ]
  },
  {
   "cell_type": "code",
   "execution_count": null,
   "metadata": {
    "colab": {},
    "colab_type": "code",
    "collapsed": false,
    "id": "OnlEr7zl0U23",
    "jupyter": {
     "outputs_hidden": false
    },
    "outputId": "66e3c048-09f7-41e1-8697-57db36a8207e"
   },
   "outputs": [],
   "source": [
    "plt.imshow(I, cmap=plt.cm.get_cmap('Blues', 6))\n",
    "plt.colorbar()\n",
    "plt.clim(-1, 1);"
   ]
  },
  {
   "cell_type": "markdown",
   "metadata": {
    "colab_type": "text",
    "id": "Tg0KAMKa0U24"
   },
   "source": [
    "La versión discreta de un mapa de colores puede utilizarse como cualquier otro mapa de colores."
   ]
  }
 ],
 "metadata": {
  "kernelspec": {
   "display_name": "Python 3.7.9 64-bit",
   "language": "python",
   "name": "python3"
  },
  "language_info": {
   "codemirror_mode": {
    "name": "ipython",
    "version": 3
   },
   "file_extension": ".py",
   "mimetype": "text/x-python",
   "name": "python",
   "nbconvert_exporter": "python",
   "pygments_lexer": "ipython3",
   "version": "3.7.9"
  },
  "orig_nbformat": 4,
  "vscode": {
   "interpreter": {
    "hash": "ec2a379ed5c25334a484232182c9d38ef8bd9861e2542d0c517568c4f99a9a7c"
   }
  }
 },
 "nbformat": 4,
 "nbformat_minor": 2
}
