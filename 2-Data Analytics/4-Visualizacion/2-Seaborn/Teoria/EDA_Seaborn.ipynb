{
 "cells": [
  {
   "cell_type": "markdown",
   "metadata": {},
   "source": [
    "![imagen](./img/seaborn.png)\n",
    "\n",
    "\n",
    "# Exploratory Data Analysis with Seaborn\n",
    "Entender cómo se hacen las gráficas en python está muy bien, pero lo importante es saber cuándo usarlas. En este notebook no se pretende explicar todos los tipos de gráficas que hay (histogramas, scatter plots, heatmaps...), en primer lugar porque es imposible abarcarlo todo, y en segundo lugar porque hay que ir un paso atrás antes de elegir la gráfica, ya que tenemos que comprender de qué tipo son los datos y qué es lo que estamos buscando con cada gráfica.\n",
    "\n",
    "Por tanto, primero tendremos que identificar el tipo de los datos y cuántas variables vamos a representar\n",
    "- Una variable numérica\n",
    "- Una variable categórica\n",
    "- Dos variables numéricas\n",
    "- Tres o más variables numéricas\n",
    "- Dos variables categóricas\n",
    "- Variables numéricas y categóricas\n",
    "\n",
    "Teniendo claro esto, junto con un buen catálogo de gráficas, lo tendremos mucho más fácil.\n",
    "\n",
    "https://www.data-to-viz.com/"
   ]
  },
  {
   "cell_type": "code",
   "execution_count": null,
   "metadata": {},
   "outputs": [],
   "source": [
    "# !pip install seaborn"
   ]
  },
  {
   "cell_type": "code",
   "execution_count": null,
   "metadata": {},
   "outputs": [],
   "source": [
    "# Importamos todos los paquetes que vayamos a necesitar\n",
    "from sklearn.datasets import load_iris, load_boston\n",
    "import seaborn as sns\n",
    "import pandas as pd\n",
    "import numpy as np\n",
    "import matplotlib.pyplot as plt\n",
    "\n",
    "# Algunas configuraciones de los paquetes\n",
    "pd.set_option(\"display.max_rows\", 500) # Cuántas filas de los DataFrames nos \"escupe\" pandas en el Notebook\n",
    "sns.set(color_codes=True)\n",
    "\n",
    "import warnings\n",
    "warnings.filterwarnings(\"ignore\")"
   ]
  },
  {
   "cell_type": "code",
   "execution_count": null,
   "metadata": {},
   "outputs": [],
   "source": [
    "print(load_boston()['DESCR'])"
   ]
  },
  {
   "cell_type": "code",
   "execution_count": null,
   "metadata": {},
   "outputs": [],
   "source": [
    "# Cargamos las features en un DataFrame:\n",
    "iris_df = pd.DataFrame(load_iris()[\"data\"],columns=load_iris()[\"feature_names\"])\n",
    "boston_df = pd.DataFrame(load_boston()[\"data\"],columns=load_boston()[\"feature_names\"])\n",
    "\n",
    "# Y añadimos la columna de especies:\n",
    "iris_df[\"target\"] = load_iris()[\"target_names\"][load_iris()[\"target\"]]\n",
    "boston_df[\"target\"] = load_boston()[\"target\"]\n",
    "\n",
    "# Cargamos tb el dataset del titanic\n",
    "titanic_df = pd.read_csv(\"data/titanic.csv\", sep=\"\\t\")\n",
    "\n",
    "# Cargamos los datos del supermarket sales\n",
    "market_df = pd.read_csv(\"data/supermarket_sales.csv\")\n",
    "\n",
    "# Cargamos dataset de suicidios\n",
    "suicid_df = pd.read_csv(\"data/suicide.csv\")"
   ]
  },
  {
   "cell_type": "code",
   "execution_count": null,
   "metadata": {},
   "outputs": [],
   "source": [
    "titanic_df.head()"
   ]
  },
  {
   "cell_type": "code",
   "execution_count": null,
   "metadata": {},
   "outputs": [],
   "source": [
    "boston_df.head()"
   ]
  },
  {
   "cell_type": "code",
   "execution_count": null,
   "metadata": {},
   "outputs": [],
   "source": [
    "market_df.head()"
   ]
  },
  {
   "cell_type": "code",
   "execution_count": null,
   "metadata": {},
   "outputs": [],
   "source": [
    "iris_df.head()"
   ]
  },
  {
   "cell_type": "code",
   "execution_count": null,
   "metadata": {},
   "outputs": [],
   "source": [
    "suicid_df.head()"
   ]
  },
  {
   "cell_type": "markdown",
   "metadata": {},
   "source": [
    "# Tipos de las variables\n",
    "Antes de representar cualquier variable es imprescindible comprender qué tipo de datos queremos representar. Tenemos los siguientes:\n",
    "\n",
    "![imagen](./img/dtypes.png)"
   ]
  },
  {
   "cell_type": "markdown",
   "metadata": {},
   "source": [
    "## 1. Análisis univariante\n",
    "### 1.1 Variables cuantitativas\n",
    "Si queremos ver cómo se distribuyen los precios de venta de tickets del Titanic.\n",
    "#### Densidad\n",
    "\n",
    "[Documentación](https://seaborn.pydata.org/generated/seaborn.distplot.html)\n",
    "\n",
    "Este tipo de gráficas nos sirven para ver la distribución de los datos, donde se concentran más, ¿es dispersa? ¿tiene asimétrica? ¿por qué? ¿Hay outliers?"
   ]
  },
  {
   "cell_type": "code",
   "execution_count": null,
   "metadata": {},
   "outputs": [],
   "source": [
    "titanic_df['Fare'].mode()"
   ]
  },
  {
   "cell_type": "code",
   "execution_count": null,
   "metadata": {},
   "outputs": [],
   "source": [
    "titanic_df['Fare'].min()"
   ]
  },
  {
   "cell_type": "code",
   "execution_count": null,
   "metadata": {},
   "outputs": [],
   "source": [
    "titanic_df['Fare'].max()"
   ]
  },
  {
   "cell_type": "code",
   "execution_count": null,
   "metadata": {},
   "outputs": [],
   "source": [
    "plt.figure(figsize=(10,5))\n",
    "sns.distplot(titanic_df[\"Fare\"], hist = False);"
   ]
  },
  {
   "cell_type": "markdown",
   "metadata": {},
   "source": [
    "#### Histograma\n",
    "También podemos verlo en un histograma\n",
    "\n",
    "[Documentación](https://seaborn.pydata.org/generated/seaborn.distplot.html)\n",
    "\n",
    "Los histogramas dan la frecuencia de aparición de todos los valores. Muy similar al diagrama de densidad anterior. La diferencia es que ahora el eje y es un conteo y no la probabilidad de aparición de los valores de la variable."
   ]
  },
  {
   "cell_type": "code",
   "execution_count": null,
   "metadata": {},
   "outputs": [],
   "source": [
    "plt.figure(figsize=(10,5))\n",
    "sns.distplot(titanic_df[\"Fare\"],\n",
    "             kde=False,\n",
    "             color='g',\n",
    "             bins=100);\n",
    "# plt.xlim(0,30)"
   ]
  },
  {
   "cell_type": "markdown",
   "metadata": {},
   "source": [
    "Podemos agrupar (visualmente) una variable numérica. Podría ser una posible categorización de los billetes"
   ]
  },
  {
   "cell_type": "code",
   "execution_count": null,
   "metadata": {},
   "outputs": [],
   "source": [
    "plt.figure(figsize=(10,5))\n",
    "sns.distplot(titanic_df[\"Fare\"],\n",
    "             kde=False,\n",
    "            bins=100);"
   ]
  },
  {
   "cell_type": "markdown",
   "metadata": {},
   "source": [
    "#### Histograma + Densidad\n",
    "\n",
    "[Documentación](https://seaborn.pydata.org/generated/seaborn.distplot.html)"
   ]
  },
  {
   "cell_type": "code",
   "execution_count": null,
   "metadata": {},
   "outputs": [],
   "source": [
    "plt.figure(figsize=(10,5))\n",
    "sns.distplot(titanic_df[\"Fare\"],\n",
    "            kde_kws={\"color\": \"k\", \"lw\": 3, \"label\": \"KDE\"},\n",
    "            hist_kws={\"histtype\": \"step\", \"linewidth\": 3,\n",
    "                      \"alpha\": 1, \"color\": \"g\"});"
   ]
  },
  {
   "cell_type": "markdown",
   "metadata": {},
   "source": [
    "Otra manera muy visual de ver la concentración de los valores es mediante el argumento `rug`"
   ]
  },
  {
   "cell_type": "code",
   "execution_count": null,
   "metadata": {},
   "outputs": [],
   "source": [
    "plt.figure(figsize=(10,5))\n",
    "sns.distplot(titanic_df[\"Fare\"],\n",
    "            rug=True,\n",
    "            bins=100)\n",
    "plt.xlim(0, 100);"
   ]
  },
  {
   "cell_type": "markdown",
   "metadata": {},
   "source": [
    "#### Boxplot\n",
    "\n",
    "[Colores de Matplotlib](https://matplotlib.org/3.1.0/gallery/color/named_colors.html)\n",
    "\n",
    "[Boxlot](https://seaborn.pydata.org/generated/seaborn.boxplot.html)\n",
    "\n",
    "Los boxplots dan una información muy parecida a los gráficos vistos anteriormente, aunque en este caso destaca mucho más los outliers."
   ]
  },
  {
   "cell_type": "code",
   "execution_count": null,
   "metadata": {},
   "outputs": [],
   "source": [
    "p_0 = np.percentile(titanic_df[\"Fare\"], 0) #Q0 #Min\n",
    "p_25 = np.percentile(titanic_df[\"Fare\"], 25) #Q1\n",
    "p_50 = np.percentile(titanic_df[\"Fare\"], 50) #Q2 #Mediana\n",
    "p_75 = np.percentile(titanic_df[\"Fare\"], 75) #Q3\n",
    "p_100 = np.percentile(titanic_df[\"Fare\"], 100) #Q4 #Max\n",
    "\n",
    "print(\"Valor del percentil 0:\", p_0)\n",
    "print(\"Valor del percentil 25:\", p_25)\n",
    "print(\"Valor del percentil 50:\", p_50)\n",
    "print(\"Valor del percentil 75:\", p_75)\n",
    "print(\"Valor del percentil 100:\", p_100)\n",
    "print(\"Valor media:\", round(titanic_df[\"Fare\"].mean(),2) )"
   ]
  },
  {
   "cell_type": "code",
   "execution_count": null,
   "metadata": {},
   "outputs": [],
   "source": [
    "plt.figure(figsize=(20,5))\n",
    "sns.boxplot(titanic_df[\"Fare\"], color=\"sienna\");\n",
    "# plt.xlim(0,50)"
   ]
  },
  {
   "cell_type": "markdown",
   "metadata": {},
   "source": [
    "![imagen](./img/boxplot.png)"
   ]
  },
  {
   "cell_type": "markdown",
   "metadata": {},
   "source": [
    "#### Violinplot\n",
    "\n",
    "[Colores de Matplotlib](https://matplotlib.org/3.1.0/gallery/color/named_colors.html)\n",
    "\n",
    "[Violinplot](https://seaborn.pydata.org/generated/seaborn.violinplot.html)\n",
    "\n",
    "Igual que un diagrama de caja, pero en este caso tiene la función de distribución en lugar de la propia caja"
   ]
  },
  {
   "cell_type": "code",
   "execution_count": null,
   "metadata": {},
   "outputs": [],
   "source": [
    "plt.figure(figsize=(20,5))\n",
    "sns.violinplot(titanic_df[\"Fare\"], color='deeppink');"
   ]
  },
  {
   "cell_type": "code",
   "execution_count": null,
   "metadata": {},
   "outputs": [],
   "source": [
    "plt.figure(figsize=(20,5))\n",
    "sns.violinplot(titanic_df[\"Fare\"], color='lightseagreen', bw=.5, inner=\"stick\");"
   ]
  },
  {
   "cell_type": "markdown",
   "metadata": {},
   "source": [
    "### 1.2 Variables cualitativas\n",
    "Para representar una variable categórica tendremos que ver su frecuencia de valores\n",
    "\n",
    "En este caso vamos a ver qué tipo de embarque ha sido el más frecuente.\n",
    "\n",
    "[Documentacion](https://seaborn.pydata.org/generated/seaborn.countplot.html)"
   ]
  },
  {
   "cell_type": "code",
   "execution_count": null,
   "metadata": {},
   "outputs": [],
   "source": [
    "titanic_df['Embarked'].unique()"
   ]
  },
  {
   "cell_type": "code",
   "execution_count": null,
   "metadata": {},
   "outputs": [],
   "source": [
    "plt.figure(figsize=(7,5))\n",
    "sns.countplot(titanic_df[\"Embarked\"]);"
   ]
  },
  {
   "cell_type": "markdown",
   "metadata": {},
   "source": [
    "#### Lollipop\n",
    "\n",
    "¿Cuáles han sido los productos más pedidos?\n",
    "\n",
    "[Documentación](https://matplotlib.org/3.1.1/api/_as_gen/matplotlib.pyplot.hlines.html)"
   ]
  },
  {
   "cell_type": "code",
   "execution_count": null,
   "metadata": {},
   "outputs": [],
   "source": [
    "# conteo"
   ]
  },
  {
   "cell_type": "code",
   "execution_count": null,
   "metadata": {},
   "outputs": [],
   "source": [
    "market_df.head()"
   ]
  },
  {
   "cell_type": "code",
   "execution_count": null,
   "metadata": {},
   "outputs": [],
   "source": [
    "market_df['Product line'].value_counts(ascending=False)"
   ]
  },
  {
   "cell_type": "code",
   "execution_count": null,
   "metadata": {},
   "outputs": [],
   "source": [
    "conteo = market_df['Product line'].value_counts(ascending=False)\n",
    "\n",
    "plt.figure(figsize=(10,5))\n",
    "plt.hlines(y=conteo.index,\n",
    "           xmin=150,\n",
    "           xmax=conteo,\n",
    "           color='skyblue')\n",
    "plt.plot(conteo, conteo.index, \"o\");\n"
   ]
  },
  {
   "cell_type": "markdown",
   "metadata": {},
   "source": [
    "#### Donut chart/Pie chart\n",
    "\n",
    "[Documentación](https://matplotlib.org/3.1.1/api/_as_gen/matplotlib.pyplot.pie.html)"
   ]
  },
  {
   "cell_type": "code",
   "execution_count": null,
   "metadata": {},
   "outputs": [],
   "source": [
    "titanic_df[\"Embarked\"].value_counts()"
   ]
  },
  {
   "cell_type": "code",
   "execution_count": null,
   "metadata": {},
   "outputs": [],
   "source": [
    "import matplotlib.pyplot as plt\n",
    " \n",
    "# create data\n",
    "data = titanic_df[\"Embarked\"].value_counts()\n",
    " \n",
    "# Create a circle for the center of the plot\n",
    "my_circle=plt.Circle( (0,0),\n",
    "                     0.7, # Grosor del donut\n",
    "                     color='white')\n",
    "\n",
    "plt.figure(figsize=(8,8))\n",
    "\n",
    "plt.pie(data.values,\n",
    "        labels=data.index,\n",
    "        autopct='%1.2f%%');\n",
    "\n",
    "p=plt.gcf()\n",
    "p.gca().add_artist(my_circle);"
   ]
  },
  {
   "cell_type": "code",
   "execution_count": null,
   "metadata": {},
   "outputs": [],
   "source": [
    "plt.figure(figsize=(8,8))\n",
    "plt.pie(data.values,\n",
    "        labels=data.index,\n",
    "        autopct='%1.2f%%')\n",
    "p=plt.gcf();"
   ]
  },
  {
   "cell_type": "markdown",
   "metadata": {},
   "source": [
    "## 2. Análisis Bivariante\n",
    "### 2.1 Comparativa de variables cuantitativas (2-4 variables)\n",
    "#### Boxplot\n",
    "\n",
    "En este ejemplo veremos cómo de diferentes son las distribuciones de las 4 características que definen a una flor.\n",
    "\n",
    "[Boxlot](https://seaborn.pydata.org/generated/seaborn.boxplot.html)"
   ]
  },
  {
   "cell_type": "code",
   "execution_count": null,
   "metadata": {},
   "outputs": [],
   "source": [
    "iris_df.head()"
   ]
  },
  {
   "cell_type": "code",
   "execution_count": null,
   "metadata": {},
   "outputs": [],
   "source": [
    "iris_df.columns.values[0:4]"
   ]
  },
  {
   "cell_type": "code",
   "execution_count": null,
   "metadata": {},
   "outputs": [],
   "source": [
    "plt.figure(figsize=(10,10))\n",
    "sns.boxplot(data=iris_df[iris_df.columns.values[0:4]]);"
   ]
  },
  {
   "cell_type": "markdown",
   "metadata": {},
   "source": [
    "El boxplot está bien, pero haay algo de información que se nos escapa"
   ]
  },
  {
   "cell_type": "code",
   "execution_count": null,
   "metadata": {},
   "outputs": [],
   "source": [
    "plt.figure(figsize=(10,10))\n",
    "sns.boxplot(data=iris_df[iris_df.columns.values[0:4]])\n",
    "sns.swarmplot(data=iris_df[iris_df.columns.values[0:4]],\n",
    "             color=\"black\", edgecolor=\"gray\");"
   ]
  },
  {
   "cell_type": "markdown",
   "metadata": {},
   "source": [
    "#### Diagramas de densidad\n",
    "\n",
    "Otra manera de ver cómo se distribuyen las características de las flores.\n",
    "\n",
    "[Documentación](https://seaborn.pydata.org/generated/seaborn.kdeplot.html)"
   ]
  },
  {
   "cell_type": "code",
   "execution_count": null,
   "metadata": {},
   "outputs": [],
   "source": [
    "plt.figure(figsize=(12,8))\n",
    "sns.kdeplot(data=iris_df[iris_df.columns.values[0:4]], shade=True);"
   ]
  },
  {
   "cell_type": "markdown",
   "metadata": {},
   "source": [
    "#### Histogramas\n",
    "\n",
    "[Documentación](https://seaborn.pydata.org/generated/seaborn.distplot.html)"
   ]
  },
  {
   "cell_type": "code",
   "execution_count": null,
   "metadata": {},
   "outputs": [],
   "source": [
    "plt.figure(figsize=(12,8))\n",
    "sns.distplot(iris_df[\"sepal length (cm)\"] , color=\"skyblue\", label=\"Sepal Length\")\n",
    "sns.distplot(iris_df[\"sepal width (cm)\"] , color=\"red\", label=\"Sepal Width\")\n",
    "plt.legend();"
   ]
  },
  {
   "cell_type": "code",
   "execution_count": null,
   "metadata": {},
   "outputs": [],
   "source": [
    "f, axes = plt.subplots(2, 2, figsize=(15,10), sharex=True)\n",
    "sns.distplot(iris_df[\"sepal length (cm)\"] , color=\"skyblue\", ax=axes[0, 0])\n",
    "sns.distplot(iris_df[\"sepal width (cm)\"] , color=\"olive\", ax=axes[0, 1])\n",
    "sns.distplot(iris_df[\"petal length (cm)\"] , color=\"gold\", ax=axes[1, 0])\n",
    "sns.distplot(iris_df[\"petal width (cm)\"] , color=\"teal\", ax=axes[1, 1]);"
   ]
  },
  {
   "cell_type": "markdown",
   "metadata": {},
   "source": [
    "#### Scatter plot\n",
    "\n",
    "En este ejemplo se ve claramente cómo estas dos variables sirven para distinguir las setosas de los otros tipos\n",
    "\n",
    "[Documentación](https://seaborn.pydata.org/generated/seaborn.scatterplot.html)"
   ]
  },
  {
   "cell_type": "code",
   "execution_count": null,
   "metadata": {},
   "outputs": [],
   "source": [
    "iris_df.head()"
   ]
  },
  {
   "cell_type": "code",
   "execution_count": null,
   "metadata": {},
   "outputs": [],
   "source": [
    "plt.figure(figsize=(12,8))\n",
    "sns.scatterplot(x=iris_df['sepal length (cm)'],\n",
    "                y=iris_df['sepal width (cm)'],\n",
    "                hue = iris_df['target'],\n",
    "               s=100);"
   ]
  },
  {
   "cell_type": "markdown",
   "metadata": {},
   "source": [
    "[Documentación dataset](https://scikit-learn.org/stable/datasets/index.html#boston-dataset)\n",
    "\n",
    "[Documentación jointplot](https://seaborn.pydata.org/generated/seaborn.jointplot.html)\n",
    "\n",
    "% poblacion con poco poder adquisitivo vs media de habitaciones por vivienda"
   ]
  },
  {
   "cell_type": "code",
   "execution_count": null,
   "metadata": {},
   "outputs": [],
   "source": [
    "sns.jointplot(x=boston_df['LSTAT'],\n",
    "              y=boston_df['RM'],\n",
    "              color=\"#4CB391\",\n",
    "             height = 8);"
   ]
  },
  {
   "cell_type": "code",
   "execution_count": null,
   "metadata": {},
   "outputs": [],
   "source": [
    "sns.jointplot(x=boston_df['LSTAT'],\n",
    "              y=boston_df['RM'],\n",
    "              kind=\"hex\",\n",
    "              color=\"#4CB391\");"
   ]
  },
  {
   "cell_type": "code",
   "execution_count": null,
   "metadata": {},
   "outputs": [],
   "source": [
    "sns.jointplot(x=boston_df['LSTAT'],\n",
    "              y=boston_df['RM'],\n",
    "              kind=\"kde\",\n",
    "              color=\"#4CB391\");"
   ]
  },
  {
   "cell_type": "markdown",
   "metadata": {},
   "source": [
    "### 2.2 Comparativa de múltiples numéricas"
   ]
  },
  {
   "cell_type": "markdown",
   "metadata": {},
   "source": [
    "#### Heatmaps\n",
    "\n",
    "Los heatmaps son perfectos para representar una matriz de correlación\n",
    "\n",
    "[Documentación heatmap](https://seaborn.pydata.org/generated/seaborn.heatmap.html)"
   ]
  },
  {
   "cell_type": "code",
   "execution_count": null,
   "metadata": {},
   "outputs": [],
   "source": [
    "boston_df.corr()"
   ]
  },
  {
   "cell_type": "code",
   "execution_count": null,
   "metadata": {},
   "outputs": [],
   "source": [
    "plt.figure(figsize=(15,15))\n",
    "sns.heatmap(boston_df.corr(),\n",
    "            vmin=-1,\n",
    "            vmax=1,\n",
    "            cmap=sns.diverging_palette(145, 280, s=85, l=25, n=7),\n",
    "            square=True,\n",
    "            linewidths=.1,\n",
    "            annot=True);"
   ]
  },
  {
   "cell_type": "code",
   "execution_count": null,
   "metadata": {},
   "outputs": [],
   "source": [
    "# EJEMPLO DE MALA ESCALA DE COLORES\n",
    "f, ax = plt.subplots(figsize=(13, 10))\n",
    "sns.heatmap(boston_df.corr(),\n",
    "            annot=True,\n",
    "            linewidths=.5,\n",
    "            ax=ax,\n",
    "            vmin=-1,\n",
    "            vmax=1);"
   ]
  },
  {
   "cell_type": "markdown",
   "metadata": {},
   "source": [
    "También nos permite comparar una variable numérica vs dos variables categóricas. Por ejemplo la cantidad de suicidios desagregado por edades y paises.\n",
    "\n",
    "Se recomienda que las dos variables categóricas tengan pocos casos, porque sino no se va a ver bien el heatmap."
   ]
  },
  {
   "cell_type": "code",
   "execution_count": null,
   "metadata": {},
   "outputs": [],
   "source": [
    "suicid_df.head()"
   ]
  },
  {
   "cell_type": "code",
   "execution_count": null,
   "metadata": {},
   "outputs": [],
   "source": [
    "data = suicid_df.groupby(['country', 'age']).sum()['suicides_no'].unstack()\n",
    "data = data.loc[['Italy', 'Spain', 'Portugal', 'Belgium', 'Czech Republic']]"
   ]
  },
  {
   "cell_type": "code",
   "execution_count": null,
   "metadata": {},
   "outputs": [],
   "source": [
    "data"
   ]
  },
  {
   "cell_type": "code",
   "execution_count": null,
   "metadata": {},
   "outputs": [],
   "source": [
    "plt.figure(figsize=(10,10))\n",
    "sns.heatmap(data,\n",
    "            square=True,\n",
    "            linewidths=.3,\n",
    "            annot=True);"
   ]
  },
  {
   "cell_type": "markdown",
   "metadata": {},
   "source": [
    "#### Correlograma\n",
    "\n",
    "[Documentación Pairplot](https://seaborn.pydata.org/generated/seaborn.pairplot.html)\n",
    "\n",
    "Interesante gráfica para ver en un dataset qué variables presentan correlación lineal, así como sus distribuciones. NO realices esta gráfica con muchas variables porque no se va a ver bien. Hazlo por partes."
   ]
  },
  {
   "cell_type": "code",
   "execution_count": null,
   "metadata": {},
   "outputs": [],
   "source": [
    "iris_df.head()"
   ]
  },
  {
   "cell_type": "code",
   "execution_count": null,
   "metadata": {},
   "outputs": [],
   "source": [
    "sns.scatterplot(iris_df['petal length (cm)'], iris_df['petal width (cm)'])\n"
   ]
  },
  {
   "cell_type": "code",
   "execution_count": null,
   "metadata": {},
   "outputs": [],
   "source": [
    "sns.pairplot(iris_df);"
   ]
  },
  {
   "cell_type": "code",
   "execution_count": null,
   "metadata": {},
   "outputs": [],
   "source": [
    "sns.pairplot(iris_df,\n",
    "             kind=\"scatter\",\n",
    "             hue=\"target\",\n",
    "             plot_kws=dict(s=80, edgecolor=\"white\",\n",
    "                           linewidth=2.5));"
   ]
  },
  {
   "cell_type": "code",
   "execution_count": null,
   "metadata": {},
   "outputs": [],
   "source": [
    "sns.pairplot(iris_df,\n",
    "             kind=\"scatter\",\n",
    "             hue=\"target\",\n",
    "             diag_kind=\"hist\");"
   ]
  },
  {
   "cell_type": "markdown",
   "metadata": {},
   "source": [
    "### 2.3 Comparativa de dos variables cualitativas\n",
    "#### Tabla\n",
    "\n",
    "[Documentacion](https://pandas.pydata.org/pandas-docs/stable/reference/api/pandas.crosstab.html)\n",
    "\n",
    "Lo más sencillo, una tabla con la frecuencia de valores. Esto es factible cuando los elementos únicos por categoría no son muchos."
   ]
  },
  {
   "cell_type": "code",
   "execution_count": null,
   "metadata": {},
   "outputs": [],
   "source": [
    "pd.crosstab(titanic_df[\"Embarked\"],\n",
    "            titanic_df[\"Sex\"],\n",
    "            margins = False) "
   ]
  },
  {
   "cell_type": "markdown",
   "metadata": {},
   "source": [
    "#### Diagrama de barras\n",
    "\n",
    "[Documentacion](https://seaborn.pydata.org/generated/seaborn.catplot.html)\n",
    "\n",
    "En un diagrama de barras también se entiende la representación de dos variables cualitativas"
   ]
  },
  {
   "cell_type": "code",
   "execution_count": null,
   "metadata": {},
   "outputs": [],
   "source": [
    "sns.catplot(x=\"Embarked\",\n",
    "            hue=\"Sex\",\n",
    "            kind=\"count\",\n",
    "            edgecolor=\".6\",\n",
    "            orient = \"V\",\n",
    "            data=titanic_df);"
   ]
  },
  {
   "cell_type": "markdown",
   "metadata": {},
   "source": [
    "Otra manera de visualizar dos o más variables categóricas"
   ]
  },
  {
   "cell_type": "code",
   "execution_count": null,
   "metadata": {},
   "outputs": [],
   "source": [
    "plt.figure(figsize=(30,10));\n",
    "sns.catplot(x=\"Survived\",\n",
    "            col=\"Embarked\",\n",
    "            col_wrap=3,\n",
    "            data=titanic_df,\n",
    "            kind=\"count\");"
   ]
  },
  {
   "cell_type": "code",
   "execution_count": null,
   "metadata": {},
   "outputs": [],
   "source": [
    "titanic_df.groupby(['Embarked','Sex'])['Survived'].sum()"
   ]
  },
  {
   "cell_type": "code",
   "execution_count": null,
   "metadata": {},
   "outputs": [],
   "source": [
    "sns.catplot(x=\"Sex\",\n",
    "            y=\"Survived\",\n",
    "            hue=\"Embarked\",\n",
    "            kind=\"bar\",\n",
    "            data=titanic_df,\n",
    "            ci=None); # Para que elimine las barras de error"
   ]
  },
  {
   "cell_type": "code",
   "execution_count": null,
   "metadata": {},
   "outputs": [],
   "source": [
    "df_plot = titanic_df.groupby(['Embarked', 'Survived']).size().reset_index().pivot(columns='Embarked',\n",
    "                                                                                  index='Survived',\n",
    "                                                                                  values=0)\n",
    "df_plot.plot(kind='bar', stacked=True);"
   ]
  },
  {
   "cell_type": "markdown",
   "metadata": {},
   "source": [
    "### 2.4 Cualitativa vs cuantitativa\n",
    "#### Time series\n",
    "\n",
    "[Documentacion](https://seaborn.pydata.org/generated/seaborn.lineplot.html)\n",
    "\n",
    "Las series temporales tienen la particularidad de que son datos ordenados"
   ]
  },
  {
   "cell_type": "code",
   "execution_count": null,
   "metadata": {},
   "outputs": [],
   "source": [
    "suicid_df2 = suicid_df[suicid_df['country'].isin(['Spain', 'Germany', 'France'])]\n",
    "suicid_df2 = suicid_df2.groupby(['country', 'year']).sum()\n",
    "suicid_df2.reset_index(inplace=True)"
   ]
  },
  {
   "cell_type": "code",
   "execution_count": null,
   "metadata": {},
   "outputs": [],
   "source": [
    "plt.figure(figsize=(15,10))\n",
    "sns.lineplot(data=suicid_df2,\n",
    "             x=\"year\",\n",
    "             y=\"suicides_no\",\n",
    "             hue=\"country\",\n",
    "            linewidth = 3);"
   ]
  },
  {
   "cell_type": "markdown",
   "metadata": {},
   "source": [
    "#### Treemap\n",
    "Un treemap es una opción muy interesante para mostrar una variable numérica vs una categórica"
   ]
  },
  {
   "cell_type": "code",
   "execution_count": null,
   "metadata": {},
   "outputs": [],
   "source": [
    "# !pip install squarify"
   ]
  },
  {
   "cell_type": "code",
   "execution_count": null,
   "metadata": {},
   "outputs": [],
   "source": [
    "suicid_df.groupby(\"country\").sum()['suicides_no'].sort_values(ascending=False)[:30]"
   ]
  },
  {
   "cell_type": "code",
   "execution_count": null,
   "metadata": {},
   "outputs": [],
   "source": [
    "import squarify\n",
    "\n",
    "data = suicid_df.groupby(\"country\").sum()['suicides_no'].sort_values(ascending=False)[:10]\n",
    "\n",
    "plt.figure(figsize=(15,10))\n",
    "squarify.plot(sizes=data.values, label=data.index, alpha=.8 )\n",
    "plt.axis('off')\n",
    "plt.title(\"Suicidios por país\")\n",
    "plt.show()"
   ]
  },
  {
   "cell_type": "markdown",
   "metadata": {},
   "source": [
    "Con este catplot obtenemos la dispersión de la variable Age, por cada grupo de la categoría."
   ]
  },
  {
   "cell_type": "code",
   "execution_count": null,
   "metadata": {},
   "outputs": [],
   "source": [
    "sns.catplot(x=\"Survived\", y=\"Age\", hue=\"Sex\", data=titanic_df);"
   ]
  },
  {
   "cell_type": "markdown",
   "metadata": {},
   "source": [
    "El equivalente con un diagrama de caja sería el siguiente"
   ]
  },
  {
   "cell_type": "code",
   "execution_count": null,
   "metadata": {},
   "outputs": [],
   "source": [
    "titanic_df.info()"
   ]
  },
  {
   "cell_type": "code",
   "execution_count": null,
   "metadata": {},
   "outputs": [],
   "source": [
    "# titanic_df['Survived_string'] = np.where(titanic_df['Survived']==1, 'Superviviente', 'No superviviente')\n",
    "# titanic_df.head()"
   ]
  },
  {
   "cell_type": "code",
   "execution_count": null,
   "metadata": {},
   "outputs": [],
   "source": [
    "sns.catplot(x=\"Survived\", y=\"Age\", hue=\"Sex\", kind=\"box\", data=titanic_df);"
   ]
  },
  {
   "cell_type": "code",
   "execution_count": null,
   "metadata": {},
   "outputs": [],
   "source": [
    "sns.catplot(x=\"Survived\", y=\"Age\", hue=\"Sex\", kind=\"violin\", data=titanic_df);"
   ]
  },
  {
   "cell_type": "code",
   "execution_count": null,
   "metadata": {},
   "outputs": [],
   "source": [
    "sns.catplot(x=\"Survived\", y=\"Age\", hue=\"Sex\", kind=\"violin\", split=True, data=titanic_df);"
   ]
  },
  {
   "cell_type": "code",
   "execution_count": null,
   "metadata": {},
   "outputs": [],
   "source": [
    "sns.catplot(x=\"City\", y=\"Total\", kind=\"swarm\", data=market_df);"
   ]
  },
  {
   "cell_type": "code",
   "execution_count": null,
   "metadata": {},
   "outputs": [],
   "source": [
    "sns.catplot(x=\"Survived\",\n",
    "            y=\"Fare\",\n",
    "            hue=\"Sex\",\n",
    "            col=\"Embarked\",\n",
    "            data=titanic_df,\n",
    "            height=5,\n",
    "            aspect=.8);"
   ]
  },
  {
   "cell_type": "code",
   "execution_count": null,
   "metadata": {},
   "outputs": [],
   "source": [
    "suicid_df2 = suicid_df[suicid_df['country'].isin(['Spain', 'Germany', 'France', 'Japan'])]\n",
    "\n",
    "chart = sns.catplot(x=\"age\",\n",
    "            y=\"suicides/100k pop\",\n",
    "            hue=\"sex\",\n",
    "            col=\"country\",\n",
    "            data=suicid_df2,\n",
    "            height=8,\n",
    "            aspect=.8)\n",
    "chart.set_xticklabels(rotation=45);"
   ]
  },
  {
   "cell_type": "code",
   "execution_count": null,
   "metadata": {},
   "outputs": [],
   "source": [
    "sns.catplot(x=\"Fare\",\n",
    "            y=\"Embarked\",\n",
    "            hue=\"Sex\",\n",
    "            kind=\"violin\",\n",
    "            col=\"Survived\",\n",
    "            bw=.1,\n",
    "            height=8,\n",
    "            aspect=.8,\n",
    "            data=titanic_df);"
   ]
  },
  {
   "cell_type": "code",
   "execution_count": null,
   "metadata": {},
   "outputs": [],
   "source": [
    "plt.figure(figsize=(10,5))\n",
    "sns.kdeplot(\n",
    "   data=titanic_df, x=\"Fare\", hue=\"Embarked\",\n",
    "   fill=True, common_norm=False, palette=\"crest\",\n",
    "   alpha=.5, linewidth=0,\n",
    ");"
   ]
  },
  {
   "cell_type": "code",
   "execution_count": null,
   "metadata": {},
   "outputs": [],
   "source": [
    "suicid_df2 = suicid_df[suicid_df['country'] == 'Spain']\n",
    "\n",
    "plt.figure(figsize=(20,8))\n",
    "sns.barplot(x=\"year\",\n",
    "            y=\"suicides_no\",\n",
    "            palette=\"Blues_d\",\n",
    "            data=suicid_df2,\n",
    "           ci=None);"
   ]
  },
  {
   "cell_type": "code",
   "execution_count": null,
   "metadata": {},
   "outputs": [],
   "source": [
    "# Filter countries with 'gdp_per_capita > 10000\n",
    "df1 = suicid_df.groupby('country').sum()['suicides_no']\n",
    "df2 = suicid_df[suicid_df['gdp_per_capita ($)'] > 10000].groupby('country').sum()['suicides_no']\n",
    "df1 = df1[df1.index.isin(df2.index)]\n",
    "\n",
    "df_tot = pd.DataFrame({\"Tot_suicide\": df1, \"Suicide_gdp\": df2}).sort_values(\"Tot_suicide\", ascending=False)[:20]\n",
    "df_tot.reset_index(level=0, inplace=True)"
   ]
  },
  {
   "cell_type": "code",
   "execution_count": null,
   "metadata": {},
   "outputs": [],
   "source": [
    "# Initialize the matplotlib figure\n",
    "f, ax = plt.subplots(figsize=(6, 15))\n",
    "\n",
    "# Plot the total crashes\n",
    "sns.set_color_codes(\"pastel\")\n",
    "sns.barplot(x=\"Tot_suicide\", y=\"country\", data=df_tot,\n",
    "            label=\"Total\", color=\"b\")\n",
    "\n",
    "# Plot the crashes where alcohol was involved\n",
    "sns.set_color_codes(\"muted\")\n",
    "sns.barplot(x=\"Suicide_gdp\", y=\"country\", data=df_tot,\n",
    "            label=\"High gdp\", color=\"b\")\n",
    "\n",
    "# Add a legend and informative axis label\n",
    "ax.legend(ncol=2, loc=\"lower right\", frameon=True)\n",
    "sns.despine(left=True, bottom=True)"
   ]
  },
  {
   "cell_type": "markdown",
   "metadata": {},
   "source": [
    "#### Bubble chart"
   ]
  },
  {
   "cell_type": "code",
   "execution_count": null,
   "metadata": {},
   "outputs": [],
   "source": [
    "suicid_df[suicid_df['country-year'] == 'Spain2002']"
   ]
  },
  {
   "cell_type": "code",
   "execution_count": null,
   "metadata": {},
   "outputs": [],
   "source": [
    "suicid_df2 = suicid_df[suicid_df['country-year'] == 'Spain2002']\n",
    "\n",
    "sns.relplot(data=suicid_df2,\n",
    "            x=\"suicides_no\",\n",
    "            y=\"suicides/100k pop\",\n",
    "            hue=\"sex\", size=\"age\",\n",
    "            sizes=(4, 300),\n",
    "            alpha=.5, palette=\"muted\",\n",
    "            height=6);"
   ]
  },
  {
   "cell_type": "markdown",
   "metadata": {},
   "source": [
    "#### "
   ]
  }
 ],
 "metadata": {
  "kernelspec": {
   "display_name": "Python 3.7.9 64-bit",
   "language": "python",
   "name": "python3"
  },
  "language_info": {
   "codemirror_mode": {
    "name": "ipython",
    "version": 3
   },
   "file_extension": ".py",
   "mimetype": "text/x-python",
   "name": "python",
   "nbconvert_exporter": "python",
   "pygments_lexer": "ipython3",
   "version": "3.7.9"
  },
  "vscode": {
   "interpreter": {
    "hash": "ec2a379ed5c25334a484232182c9d38ef8bd9861e2542d0c517568c4f99a9a7c"
   }
  }
 },
 "nbformat": 4,
 "nbformat_minor": 4
}
