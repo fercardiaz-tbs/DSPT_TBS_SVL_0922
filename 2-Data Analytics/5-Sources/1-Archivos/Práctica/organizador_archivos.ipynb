{
 "cells": [
  {
   "cell_type": "markdown",
   "metadata": {},
   "source": [
    "# Práctica Archivos con Python\n",
    "\n",
    "Python es un lenguaje de propósito general, por lo que podemos desarrollar otros programas,\n",
    "aparte de ciencia de datos, que nos permitan montar dashboards, crear APIs o automatizar\n",
    "procesos. En este caso vas a automatizar un proceso, en el que tendrás que desarrollar un\n",
    "script que ordene todos los archivos de una carpeta, dependiendo de la extensión de los\n",
    "mismos.\n",
    "\n",
    "El objetivo es ordenar la típica carpeta de cajón desastre donde se nos acumulan archivos de\n",
    "todos los formatos como: imágenes, words, presentaciones, excels, ejecutables, zips, etc… Y\n",
    "que no vamos a ir viendo archivo a archivo, ordenándolos…. La solución suele ser eliminarlo\n",
    "todo. Vamos a intentar no tener que llegar a eso, ordenando los ficheros automáticamente en\n",
    "carpetas y revisar las que nos interesen. La típica carpeta donde aplicaríamos este programa es\n",
    "la de “Descargas”, donde se suelen acumular muchos archivos temporales.\n",
    "\n",
    "Por tanto, el programa tiene que guardar los archivos de la carpeta “Descargas” (o cualquier\n",
    "otra donde acumules mucho archivo temporal) en los siguientes directorios dentro de la\n",
    "propia carpeta “Descargas”:\n",
    "\n",
    "- Image: '.jpg', '.jpeg', '.png', '.svg', '.gif', '.tif', '.tiff'\n",
    "- Documents: '.doc', '.docx', '.txt', '.pdf', '.xls', '.ppt', '.xlsx', '.pptx'\n",
    "- Software: '.exe', '.pkg', '.dmg'\n",
    "- Others: resto de extensiones\n",
    "\n",
    "Cada vez que ejecutes el script, automáticamente se ordenarán todos los archivos en sus\n",
    "correspondientes carpetas.\n",
    "\n",
    "\n",
    "Tienes que crear la clase `FileVault`, cuyos parámetros son:\n",
    "- La ruta de la carpeta que quieres organizar\n",
    "- Las rutas de las carpetas en la que quieres guardar los tipos de archivos. Ten en cuenta que estas carpetas pueden existir, y el contenido de ellas NO PUEDE SER ALTERADO DE NINGUNA FORMA. \n",
    "- Las extensiones extra para ordenar, en forma de diccionario. El formato del diccionario sería:\n",
    "    - Clave: El grupo al que quieres añadir más extensiones\n",
    "    - Valor: Una lista con las extensiones que quieres añadir   \n",
    "\n",
    "Recuerda que no es necesario crear el diccionario entero con listas vacías si solo quiero añadir extensiones a un grupo. \n",
    "\n",
    "```python\n",
    "\n",
    "fv = FileVault('Descargas','Descargas/Imagenes','Descargas/Documentos','Descargas/Sofware','Descargas/Otros',{'image':['psd']})\n",
    "\n",
    "```\n",
    "\n",
    "Y las funciones:\n",
    "- `organize_documents()`: Para organizar solo los documentos\n",
    "- `organize_images()`: Para organizar solo las imagenes\n",
    "- `organize_sofware()`: Para organizar solo el software\n",
    "- `organize_others()`: Para organizar solo el resto  de extensiones\n",
    "- `organize()`: Para organizarlo todo\n",
    "- `create_test_files()`: Que creará un archivo de prueba para cada una de las extensiones descritas en la lista anterior con el fin de probar la función. \n",
    "- `print_extensions()`: Enseñará por pantalla las extensiones en un formato más amigable y vistoso que el print normal de python. \n"
   ]
  }
 ],
 "metadata": {
  "language_info": {
   "name": "python"
  },
  "orig_nbformat": 4
 },
 "nbformat": 4,
 "nbformat_minor": 2
}
