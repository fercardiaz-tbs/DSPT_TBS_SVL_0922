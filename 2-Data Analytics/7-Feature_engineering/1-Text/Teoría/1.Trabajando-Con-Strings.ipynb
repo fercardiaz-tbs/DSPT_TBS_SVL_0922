{
 "cells": [
  {
   "cell_type": "markdown",
   "metadata": {},
   "source": [
    "# Operaciones con cadenas vectorizadas"
   ]
  },
  {
   "cell_type": "markdown",
   "metadata": {},
   "source": [
    "Uno de los puntos fuertes de Python es su relativa facilidad para manejar y manipular datos de cadenas.\n",
    "Pandas lo tiene como uno de sus pilares y proporciona un conjunto completo de *operaciones vectoriales de cadenas* que se convierten en una pieza esencial del tipo de manipulación necesaria cuando se trabaja con datos del mundo real.\n",
    "En esta sección, recorreremos algunas de las operaciones de cadena de Pandas, y luego echaremos un vistazo a su uso para limpiar parcialmente un conjunto de datos muy desordenado de recetas recogidas de Internet."
   ]
  },
  {
   "cell_type": "markdown",
   "metadata": {},
   "source": [
    "## Introduciendo las operaciones de cadena de texto de Pandas\n",
    "\n",
    "Hemos visto en secciones anteriores cómo herramientas como NumPy y Pandas generalizan las operaciones aritméticas para que podamos realizar fácil y rápidamente la misma operación en muchos elementos de un array. Por ejemplo:"
   ]
  },
  {
   "cell_type": "code",
   "execution_count": null,
   "metadata": {},
   "outputs": [],
   "source": [
    "import numpy as np\n",
    "x = np.array([2, 3, 5, 7, 11, 13])\n",
    "x * 2"
   ]
  },
  {
   "cell_type": "markdown",
   "metadata": {},
   "source": [
    "Esta *vectorización* de las operaciones simplifica la sintaxis para operar con matrices de datos: ya no tenemos que preocuparnos por el tamaño o la forma de la matriz, sino sólo por la operación que queremos realizar.\n",
    "Para matrices de cadenas de texto, NumPy no proporciona un acceso tan simple, y por lo tanto terminados algo atrapados, limitados a usar una sintaxis de bucle más compleja:"
   ]
  },
  {
   "cell_type": "code",
   "execution_count": null,
   "metadata": {},
   "outputs": [],
   "source": [
    "data = ['peter', 'Paul', 'MARY', 'gUIDO']\n",
    "[s.capitalize() for s in data]"
   ]
  },
  {
   "cell_type": "markdown",
   "metadata": {},
   "source": [
    "Esto puede ser suficiente para trabajar con pocos datos, pero no funcionará si hay valores que faltan.\n",
    "Por ejemplo:"
   ]
  },
  {
   "cell_type": "code",
   "execution_count": null,
   "metadata": {},
   "outputs": [],
   "source": [
    "data = ['peter', 'Paul', None, 'MARY', 'gUIDO']\n",
    "[s.capitalize() for s in data]"
   ]
  },
  {
   "cell_type": "markdown",
   "metadata": {},
   "source": [
    "Pandas incluye funcionalidades para hacer frente tanto a esta necesidad de operaciones vectorizadas de cadenas de texto, como para manejar correctamente los datos que faltan a través del atributo **``str`` de los objetos de Series e Índices de Pandas** que contienen cadenas de texto.\n"
   ]
  },
  {
   "cell_type": "code",
   "execution_count": null,
   "metadata": {},
   "outputs": [],
   "source": [
    "import pandas as pd\n",
    "names = pd.Series(data)\n",
    "names"
   ]
  },
  {
   "cell_type": "markdown",
   "metadata": {},
   "source": [
    "Ahora podemos llamar a un único método que pondrá en mayúsculas todas las entradas, saltándose los valores que falten:"
   ]
  },
  {
   "cell_type": "code",
   "execution_count": null,
   "metadata": {},
   "outputs": [],
   "source": [
    "names.str.capitalize()"
   ]
  },
  {
   "cell_type": "markdown",
   "metadata": {},
   "source": [
    "Usando el tabulador en este atributo ``str`` se listarán todos los métodos vectoriales de cadena disponibles en Pandas."
   ]
  },
  {
   "cell_type": "markdown",
   "metadata": {},
   "source": [
    "## Métodos de cadena de texto de Pandas\n",
    "\n",
    "Si tienes una buena comprensión de la manipulación de cadenas en Python, la mayor parte de la sintaxis de cadenas de texto de Pandas es lo suficientemente intuitiva como para que probablemente sea suficiente con listar una tabla de métodos disponibles; empezaremos con eso, antes de profundizar en algunas de las sutilezas.\n",
    "Los ejemplos de esta sección utilizan la siguiente serie de nombres:"
   ]
  },
  {
   "cell_type": "code",
   "execution_count": null,
   "metadata": {},
   "outputs": [],
   "source": [
    "monte = pd.Series(['Graham Chapman', 'John Cleese', 'Terry Gilliam',\n",
    "                   'Eric Idle', 'Terry Jones', 'Michael Palin'])"
   ]
  },
  {
   "cell_type": "markdown",
   "metadata": {},
   "source": [
    "### Métodos similares de Python para el tratamiento de cadenas de texto\n",
    "Casi todos los métodos de cadena de texto incorporados en Python se reflejan en un método de cadena vectorizado de Pandas. Aquí hay una lista de métodos ``str`` de Pandas que reflejan los métodos de cadena de texto de Python:\n",
    "\n",
    "|             |                  |                  |                  |\n",
    "|-------------|------------------|------------------|------------------|\n",
    "|``len()``    | ``lower()``      | ``translate()``  | ``islower()``    | \n",
    "|``ljust()``  | ``upper()``      | ``startswith()`` | ``isupper()``    | \n",
    "|``rjust()``  | ``find()``       | ``endswith()``   | ``isnumeric()``  | \n",
    "|``center()`` | ``rfind()``      | ``isalnum()``    | ``isdecimal()``  | \n",
    "|``zfill()``  | ``index()``      | ``isalpha()``    | ``split()``      | \n",
    "|``strip()``  | ``rindex()``     | ``isdigit()``    | ``rsplit()``     | \n",
    "|``rstrip()`` | ``capitalize()`` | ``isspace()``    | ``partition()``  | \n",
    "|``lstrip()`` |  ``swapcase()``  |  ``istitle()``   | ``rpartition()`` |\n",
    "\n",
    "Date cuenta que tienen varios valores de retorno/return. Algunos, como ``lower()``, devuelven una serie de cadenas:"
   ]
  },
  {
   "cell_type": "code",
   "execution_count": null,
   "metadata": {},
   "outputs": [],
   "source": [
    "monte.str.lower()"
   ]
  },
  {
   "cell_type": "markdown",
   "metadata": {},
   "source": [
    "Pero otras devuelven números:"
   ]
  },
  {
   "cell_type": "code",
   "execution_count": null,
   "metadata": {},
   "outputs": [],
   "source": [
    "monte.str.len()"
   ]
  },
  {
   "cell_type": "markdown",
   "metadata": {},
   "source": [
    "O valores booleanos:"
   ]
  },
  {
   "cell_type": "code",
   "execution_count": null,
   "metadata": {},
   "outputs": [],
   "source": [
    "monte.str.startswith('t')"
   ]
  },
  {
   "cell_type": "markdown",
   "metadata": {},
   "source": [
    "Otros devuelven listas u otros valores compuestos para cada elemento:"
   ]
  },
  {
   "cell_type": "code",
   "execution_count": null,
   "metadata": {},
   "outputs": [],
   "source": [
    "monte.str.split()"
   ]
  },
  {
   "cell_type": "markdown",
   "metadata": {},
   "source": [
    "Veremos más tipos de manipulaciones para este tipo de objeto serie-de-listas a medida que vayamos viendo cosas nuevas."
   ]
  },
  {
   "cell_type": "markdown",
   "metadata": {},
   "source": [
    "###  Métodos que utilizan expresiones regulares\n",
    "\n",
    "In addition, there are several methods that accept regular expressions to examine the content of each string element, and follow some of the API conventions of Python's built-in ``re`` module:\n",
    "Además, hay varios métodos que aceptan expresiones regulares para examinar el contenido de cada elemento de cadena de texto, vamos a ver los métodos incorporado ``re`` de Python:\n",
    "\n",
    "| Método | Descripción |\n",
    "|--------|-------------|\n",
    "| ``match()`` | Llama a ``re.match()`` en cada elemento, devolviendo un booleano. |\n",
    "| ``extract()`` | Llama a ``re.match()`` en cada elemento, devolviendo los grupos coincidentes como cadenas de texto.|\n",
    "| ``findall()`` | Llama a ``re.findall()`` en cada elemento. |\n",
    "| ``replace()`` | Reemplazar las apariciones de un patrón por otra cadena. |\n",
    "| ``contains()`` | Llama a ``re.search()`` en cada elemento, devolviendo un booleano. |\n",
    "| ``count()`` | Cuenta ocurrencias del patrón |\n",
    "| ``split()``   | Es equivalente a ``str.split()``, pero acepta expresiones regulares. |\n",
    "| ``rsplit()`` | Equivale a ``str.rsplit()``, pero acepta expresiones regulares. |"
   ]
  },
  {
   "cell_type": "markdown",
   "metadata": {},
   "source": [
    "Con ellas se puede hacer una amplia gama de operaciones interesantes.\n",
    "Por ejemplo, podemos extraer el primer nombre de cada pidiendo un grupo contiguo de caracteres al principio de cada elemento:"
   ]
  },
  {
   "cell_type": "code",
   "execution_count": null,
   "metadata": {},
   "outputs": [],
   "source": [
    "monte"
   ]
  },
  {
   "cell_type": "code",
   "execution_count": null,
   "metadata": {},
   "outputs": [],
   "source": [
    "monte.str.extract('([A-Za-z]+)', expand=False)"
   ]
  },
  {
   "cell_type": "markdown",
   "metadata": {},
   "source": [
    "O podemos hacer algo más complicado, como buscar todos los nombres que empiecen y acaben por consonante, haciendo uso de los caracteres de expresión regular de inicio de cadena de texto (``^``) y final de cadena de texto (``$``):"
   ]
  },
  {
   "cell_type": "code",
   "execution_count": null,
   "metadata": {},
   "outputs": [],
   "source": [
    "monte"
   ]
  },
  {
   "cell_type": "code",
   "execution_count": null,
   "metadata": {},
   "outputs": [],
   "source": [
    "monte.str.findall(r'^[^AEIOU].*[^aeiou]$')"
   ]
  },
  {
   "cell_type": "markdown",
   "metadata": {},
   "source": [
    "La posibilidad de aplicar expresiones regulares de forma concisa a las elementos de ``Series`` o ``Dataframe`` abre muchas posibilidades para el análisis y la limpieza de datos."
   ]
  },
  {
   "cell_type": "markdown",
   "metadata": {},
   "source": [
    "### Métodos extras\n",
    "Finalmente, hay algunos métodos que permiten otras operaciones interesantes:\n",
    "\n",
    "| Métodos | Descripción |\n",
    "|--------|-------------|\n",
    "| ``get()`` | Indexar cada elemento |\n",
    "| ``slice()`` | Rebanar cada elemento |\n",
    "| ``slice_replace()`` | Reemplazar trozo en cada elemento con el valor pasado |\n",
    "| ``cat()``      | Concatenar cadenas |\n",
    "| ``repeat()`` | Repetir valores |\n",
    "| ``normalize()`` | Devuelve la forma Unicode de la cadena |\n",
    "| ``pad()`` | Añadir espacios en blanco a la izquierda, derecha o ambos lados de las cadenas. |\n",
    "| ``wrap()`` | Dividir cadenas largas en líneas de longitud inferior a una anchura determinada. |\n",
    "| ``join()`` | Unir cadenas en cada elemento de la serie con el separador pasado. |\n",
    "| ``get_dummies()`` | Extraer variables ficticias como un marco de datos. |"
   ]
  },
  {
   "cell_type": "markdown",
   "metadata": {},
   "source": [
    "#### Acceso y troceado de elementos vectorizados\n",
    "\n",
    "Las operaciones ``get()`` y ``slice()``, en particular, permiten el acceso vectorizado a elementos de cada array.\n",
    "Por ejemplo, podemos obtener los tres primeros caracteres de cada matriz utilizando ``str.slice(0, 3)``.\n",
    "Date cuenta que este comportamiento también está disponible a través de la sintaxis normal de Python, por ejemplo, ``df.str.slice(0, 3)`` es equivalente a ``df.str[0:3]``:"
   ]
  },
  {
   "cell_type": "code",
   "execution_count": null,
   "metadata": {},
   "outputs": [],
   "source": [
    "monte.str[0:3]"
   ]
  },
  {
   "cell_type": "markdown",
   "metadata": {},
   "source": [
    "La indexación mediante ``df.str.get(i)`` y ``df.str[i]`` también es similar.\n",
    "\n",
    "Estos métodos ``get()`` y ``slice()`` también permiten acceder a los elementos de las matrices devueltas por ``split()``.\n",
    "Por ejemplo, para extraer el apellido de cada entrada, podemos combinar ``split()`` y ``get()``:"
   ]
  },
  {
   "cell_type": "code",
   "execution_count": null,
   "metadata": {},
   "outputs": [],
   "source": [
    "monte.str.split().str.get(-1)"
   ]
  },
  {
   "cell_type": "markdown",
   "metadata": {},
   "source": [
    "#### Variables indicadoras\n",
    "\n",
    "Otro método que requiere que nos paremos con él es ``get_dummies()``.\n",
    "Es útil cuando tus datos tienen una columna que contiene algún tipo de indicador codificado.\n",
    "Por ejemplo, podemos tener un conjunto de datos que contenga información en forma de códigos, como A=\"nacido en América\", B=\"nacido en el Reino Unido\", C=\"le gusta el queso\", D=\"le gusta el spam\":"
   ]
  },
  {
   "cell_type": "code",
   "execution_count": null,
   "metadata": {},
   "outputs": [],
   "source": [
    "full_monte = pd.DataFrame({'name': monte,\n",
    "                           'info': ['B,C,D', 'B,D', 'A,C',\n",
    "                                    'B,D', 'B,C', 'B,C,D']})\n",
    "full_monte"
   ]
  },
  {
   "cell_type": "markdown",
   "metadata": {},
   "source": [
    "El método de ``get_dummies()`` te permite dividir rápidamente estas variables indicadoras en un ``DataFrame``:"
   ]
  },
  {
   "cell_type": "code",
   "execution_count": null,
   "metadata": {},
   "outputs": [],
   "source": [
    "full_monte"
   ]
  },
  {
   "cell_type": "code",
   "execution_count": null,
   "metadata": {},
   "outputs": [],
   "source": [
    "full_monte['info'].str.get_dummies(',')"
   ]
  },
  {
   "cell_type": "code",
   "execution_count": null,
   "metadata": {},
   "outputs": [],
   "source": [
    "full_monte['info'] = full_monte['info'].str.replace('|','')"
   ]
  },
  {
   "cell_type": "code",
   "execution_count": null,
   "metadata": {},
   "outputs": [],
   "source": [
    "pd.get_dummies(full_monte['info'])"
   ]
  },
  {
   "cell_type": "markdown",
   "metadata": {},
   "source": [
    "Con estas operaciones como bloques de construcción, podemos montar una conjunto interminable de procedimientos de procesamiento de cadenas de texto para limpiar datos.\n",
    "\n",
    "No vamos a profundizar en estos métodos aquí, pero os recomiendo a leer [\"Working with Text Data\"](http://pandas.pydata.org/pandas-docs/stable/text.html) en la documentación online de Pandas."
   ]
  }
 ],
 "metadata": {
  "anaconda-cloud": {},
  "kernelspec": {
   "display_name": "Python 3.7.9 64-bit",
   "language": "python",
   "name": "python3"
  },
  "language_info": {
   "codemirror_mode": {
    "name": "ipython",
    "version": 3
   },
   "file_extension": ".py",
   "mimetype": "text/x-python",
   "name": "python",
   "nbconvert_exporter": "python",
   "pygments_lexer": "ipython3",
   "version": "3.7.9"
  },
  "vscode": {
   "interpreter": {
    "hash": "ec2a379ed5c25334a484232182c9d38ef8bd9861e2542d0c517568c4f99a9a7c"
   }
  }
 },
 "nbformat": 4,
 "nbformat_minor": 4
}
